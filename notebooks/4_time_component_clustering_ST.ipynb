{
 "cells": [
  {
   "cell_type": "code",
   "execution_count": 21,
   "metadata": {},
   "outputs": [],
   "source": [
    "import numpy as np\n",
    "import pandas as pd\n",
    "\n",
    "import czifile\n",
    "import matplotlib.pyplot as plt\n",
    "import matplotlib.animation as animation\n",
    "import numpy as np\n",
    "import seaborn as sns\n",
    "\n",
    "from ipywidgets import interact #for interations\n",
    "\n",
    "from IPython.display import HTML #to display movie\n",
    "%matplotlib inline \n",
    "\n",
    "#to detect points: \n",
    "from skimage.feature import blob_doh, blob_dog, blob_log\n",
    "from skimage.color import rgb2gray #to turn into grayscale\n",
    "\n",
    "#clustering\n",
    "from sklearn.cluster import AgglomerativeClustering\n",
    "from sklearn.cluster import DBSCAN"
   ]
  },
  {
   "cell_type": "code",
   "execution_count": 7,
   "metadata": {},
   "outputs": [],
   "source": [
    "#FUNCTIONS: (might modify later)\n",
    "\n",
    "#************************************************************************\n",
    "def show_blobs(blobs_coords): \n",
    "    '''function to display image and create dataframe: '''\n",
    "    fig, ax = plt.subplots() #created ax just to add patches\n",
    "    plt.imshow(IM_MAX)\n",
    "    for idx in range(len(blobs_coords)):\n",
    "        for blob in blobs_coords: \n",
    "            y, x, r = blob\n",
    "            c = plt.Circle((x, y), r, color=\"lime\", linewidth=2, fill=False)\n",
    "            ax.add_patch(c)\n",
    "    #make into dataframe first (no cleaning)\n",
    "    x = [arr[1] for arr in blobs_coords] #note, the x and y coordinates are returned in opposite order hence the indexing\n",
    "    y = [arr[0] for arr in blobs_coords]\n",
    "    sd = [arr[2] for arr in blobs_coords]\n",
    "    timepoint_1 = pd.DataFrame({\"dots\": np.arange(1, len(blobs_coords)+1), \"x\":x, \"y\":y, \"sd\":sd})\n",
    "    return timepoint_1\n",
    "\n",
    "\n",
    "#************************************************************************\n",
    "def timepoint_df(blobs_coords, tp): \n",
    "    '''make into dataframe first (no cleaning)'''\n",
    "    x = [arr[1] for arr in blobs_coords] #note, the x and y coordinates are returned in opposite order hence the indexing\n",
    "    y = [arr[0] for arr in blobs_coords]\n",
    "    sd = [arr[2] for arr in blobs_coords]\n",
    "    timepoint = pd.DataFrame({\"dots\": np.arange(1, len(blobs_coords)+1), \n",
    "                              \"x\":x, \n",
    "                              \"y\":y, \n",
    "                              \"sd\":sd, \n",
    "                              \"timept\": np.zeros(len(blobs_coords)) + tp})\n",
    "    return timepoint\n",
    "\n",
    "\n",
    "#************************************************************************\n",
    "def all_timepoints_combined(total_tp, array):\n",
    "    \n",
    "    df = pd.DataFrame() #initalize\n",
    "    for i in range(total_tp): \n",
    "        zstack = array[i, 0, :, ...] #MS2 (dots) \n",
    "        IM_MAX = np.max(zstack, axis=0) #maximum projection \n",
    "        image_gray = rgb2gray(IM_MAX)\n",
    "        blobs_dog = blob_dog(image_gray, max_sigma=30, threshold=.08)\n",
    "        timepoint = timepoint_df(blobs_dog, i)\n",
    "        df = df.append(timepoint).reset_index(drop=True)\n",
    "    return df\n"
   ]
  },
  {
   "cell_type": "code",
   "execution_count": 8,
   "metadata": {},
   "outputs": [],
   "source": [
    "#reading in images\n",
    "\n",
    "array1 = czifile.imread(\"/Users/samanthatang/Desktop/stack_data/dmel_st14__i_63x-02.czi\")\n",
    "array2 = czifile.imread(\"/Users/samanthatang/Desktop/stack_data/dmel_st14__i_63x-03.czi\")\n",
    "array3 = czifile.imread(\"/Users/samanthatang/Desktop/stack_data/dmel_st14__i_63x-04.czi\")\n",
    "# array4 = czifile.imread(\"/Users/samanthatang/Desktop/stack_data/dmel_st14__i_63x-05.czi\") #may download more later after clear up storage\n"
   ]
  },
  {
   "cell_type": "code",
   "execution_count": 9,
   "metadata": {},
   "outputs": [
    {
     "data": {
      "text/plain": [
       "(6, 2, 21, 928, 1389)"
      ]
     },
     "execution_count": 9,
     "metadata": {},
     "output_type": "execute_result"
    }
   ],
   "source": [
    "# (time, channel, z-stack, y-axis, and x-axis), 0 is the dot's channel\n",
    "array1 = array1.squeeze() #get rid of unwanted channels\n",
    "array1.shape"
   ]
  },
  {
   "cell_type": "code",
   "execution_count": 10,
   "metadata": {},
   "outputs": [
    {
     "data": {
      "text/html": [
       "<div>\n",
       "<style scoped>\n",
       "    .dataframe tbody tr th:only-of-type {\n",
       "        vertical-align: middle;\n",
       "    }\n",
       "\n",
       "    .dataframe tbody tr th {\n",
       "        vertical-align: top;\n",
       "    }\n",
       "\n",
       "    .dataframe thead th {\n",
       "        text-align: right;\n",
       "    }\n",
       "</style>\n",
       "<table border=\"1\" class=\"dataframe\">\n",
       "  <thead>\n",
       "    <tr style=\"text-align: right;\">\n",
       "      <th></th>\n",
       "      <th>dots</th>\n",
       "      <th>x</th>\n",
       "      <th>y</th>\n",
       "      <th>sd</th>\n",
       "      <th>timept</th>\n",
       "    </tr>\n",
       "  </thead>\n",
       "  <tbody>\n",
       "    <tr>\n",
       "      <th>0</th>\n",
       "      <td>1</td>\n",
       "      <td>393.0</td>\n",
       "      <td>927.0</td>\n",
       "      <td>16.777216</td>\n",
       "      <td>0.0</td>\n",
       "    </tr>\n",
       "    <tr>\n",
       "      <th>1</th>\n",
       "      <td>2</td>\n",
       "      <td>1180.0</td>\n",
       "      <td>874.0</td>\n",
       "      <td>2.560000</td>\n",
       "      <td>0.0</td>\n",
       "    </tr>\n",
       "    <tr>\n",
       "      <th>2</th>\n",
       "      <td>3</td>\n",
       "      <td>918.0</td>\n",
       "      <td>705.0</td>\n",
       "      <td>2.560000</td>\n",
       "      <td>0.0</td>\n",
       "    </tr>\n",
       "    <tr>\n",
       "      <th>3</th>\n",
       "      <td>4</td>\n",
       "      <td>486.0</td>\n",
       "      <td>670.0</td>\n",
       "      <td>2.560000</td>\n",
       "      <td>0.0</td>\n",
       "    </tr>\n",
       "    <tr>\n",
       "      <th>4</th>\n",
       "      <td>5</td>\n",
       "      <td>738.0</td>\n",
       "      <td>568.0</td>\n",
       "      <td>2.560000</td>\n",
       "      <td>0.0</td>\n",
       "    </tr>\n",
       "  </tbody>\n",
       "</table>\n",
       "</div>"
      ],
      "text/plain": [
       "   dots       x      y         sd  timept\n",
       "0     1   393.0  927.0  16.777216     0.0\n",
       "1     2  1180.0  874.0   2.560000     0.0\n",
       "2     3   918.0  705.0   2.560000     0.0\n",
       "3     4   486.0  670.0   2.560000     0.0\n",
       "4     5   738.0  568.0   2.560000     0.0"
      ]
     },
     "execution_count": 10,
     "metadata": {},
     "output_type": "execute_result"
    }
   ],
   "source": [
    "array1_timepoints = all_timepoints_combined(6, array1)\n",
    "array1_timepoints.head()"
   ]
  },
  {
   "cell_type": "code",
   "execution_count": 31,
   "metadata": {},
   "outputs": [
    {
     "data": {
      "text/html": [
       "<div>\n",
       "<style scoped>\n",
       "    .dataframe tbody tr th:only-of-type {\n",
       "        vertical-align: middle;\n",
       "    }\n",
       "\n",
       "    .dataframe tbody tr th {\n",
       "        vertical-align: top;\n",
       "    }\n",
       "\n",
       "    .dataframe thead th {\n",
       "        text-align: right;\n",
       "    }\n",
       "</style>\n",
       "<table border=\"1\" class=\"dataframe\">\n",
       "  <thead>\n",
       "    <tr style=\"text-align: right;\">\n",
       "      <th></th>\n",
       "      <th>x</th>\n",
       "      <th>y</th>\n",
       "      <th>timept</th>\n",
       "    </tr>\n",
       "  </thead>\n",
       "  <tbody>\n",
       "    <tr>\n",
       "      <th>0</th>\n",
       "      <td>393.0</td>\n",
       "      <td>927.0</td>\n",
       "      <td>0.0</td>\n",
       "    </tr>\n",
       "    <tr>\n",
       "      <th>1</th>\n",
       "      <td>1180.0</td>\n",
       "      <td>874.0</td>\n",
       "      <td>0.0</td>\n",
       "    </tr>\n",
       "    <tr>\n",
       "      <th>2</th>\n",
       "      <td>918.0</td>\n",
       "      <td>705.0</td>\n",
       "      <td>0.0</td>\n",
       "    </tr>\n",
       "    <tr>\n",
       "      <th>3</th>\n",
       "      <td>486.0</td>\n",
       "      <td>670.0</td>\n",
       "      <td>0.0</td>\n",
       "    </tr>\n",
       "    <tr>\n",
       "      <th>4</th>\n",
       "      <td>738.0</td>\n",
       "      <td>568.0</td>\n",
       "      <td>0.0</td>\n",
       "    </tr>\n",
       "  </tbody>\n",
       "</table>\n",
       "</div>"
      ],
      "text/plain": [
       "        x      y  timept\n",
       "0   393.0  927.0     0.0\n",
       "1  1180.0  874.0     0.0\n",
       "2   918.0  705.0     0.0\n",
       "3   486.0  670.0     0.0\n",
       "4   738.0  568.0     0.0"
      ]
     },
     "execution_count": 31,
     "metadata": {},
     "output_type": "execute_result"
    }
   ],
   "source": [
    "trial1 = array1_timepoints[array1_timepoints[\"timept\"] != 5][[\"x\", \"y\", \"timept\"]] #removed timepoint 5 cuz of error\n",
    "trial1.head()"
   ]
  },
  {
   "cell_type": "code",
   "execution_count": 81,
   "metadata": {},
   "outputs": [],
   "source": [
    "test0 = trial1[trial1[\"timept\"] == 0]\n",
    "test1 = trial1[trial1[\"timept\"] == 1]\n",
    "test2 = trial1[trial1[\"timept\"] == 2]"
   ]
  },
  {
   "cell_type": "code",
   "execution_count": 131,
   "metadata": {},
   "outputs": [
    {
     "data": {
      "image/png": "[encoded data removed]",
      "text/plain": [
       "<Figure size 432x288 with 1 Axes>"
      ]
     },
     "metadata": {
      "needs_background": "light"
     },
     "output_type": "display_data"
    }
   ],
   "source": [
    "plt.scatter(test0[\"x\"], test0[\"y\"]); #timepoint0\n",
    "plt.scatter(test1[\"x\"], test1[\"y\"]); #timepoint1\n",
    "plt.scatter(test2[\"x\"], test2[\"y\"]); #timepoint2\n"
   ]
  },
  {
   "cell_type": "code",
   "execution_count": 145,
   "metadata": {},
   "outputs": [
    {
     "data": {
      "text/plain": [
       "array([-1,  0,  1,  2, -1, -1, -1, -1,  3,  4,  5,  6, -1,  7, -1,  8,  9,\n",
       "       10, 11, 12,  0, 13,  2, 14, -1, -1, 15, -1, 16, 17,  3,  4,  5,  6,\n",
       "        7,  8, 10,  9, 11, -1, 12, -1, 13, -1,  1, -1,  2, 14, -1, -1, 15,\n",
       "       16, 17, -1, -1,  3,  4,  5,  6, -1, 10,  9, 11, 12])"
      ]
     },
     "execution_count": 145,
     "metadata": {},
     "output_type": "execute_result"
    }
   ],
   "source": [
    "first_three = test0.append(test1).append(test2)\n",
    "\n",
    "cluster_ft = DBSCAN(eps=40, min_samples=2)\n",
    "cluster_ft.fit_predict(first_three)"
   ]
  },
  {
   "cell_type": "code",
   "execution_count": 146,
   "metadata": {},
   "outputs": [
    {
     "data": {
      "image/png": "[encoded data removed]",
      "text/plain": [
       "<Figure size 432x288 with 1 Axes>"
      ]
     },
     "metadata": {
      "needs_background": "light"
     },
     "output_type": "display_data"
    }
   ],
   "source": [
    "plt.scatter(first_three[\"x\"], first_three[\"y\"], c=cluster_ft.labels_);"
   ]
  },
  {
   "cell_type": "code",
   "execution_count": null,
   "metadata": {},
   "outputs": [],
   "source": []
  },
  {
   "cell_type": "code",
   "execution_count": null,
   "metadata": {},
   "outputs": [],
   "source": []
  },
  {
   "cell_type": "code",
   "execution_count": 118,
   "metadata": {},
   "outputs": [
    {
     "data": {
      "image/png": "[encoded data removed]",
      "text/plain": [
       "<Figure size 432x288 with 1 Axes>"
      ]
     },
     "metadata": {
      "needs_background": "light"
     },
     "output_type": "display_data"
    }
   ],
   "source": [
    "cluster_test0 = DBSCAN(eps=1, min_samples=0)\n",
    "cluster_test0.fit_predict(test0)\n",
    "\n",
    "plt.scatter(test0[\"x\"], test0[\"y\"], c=cluster_test0.labels_)\n",
    "plt.ylim([1000, 0])\n",
    "plt.yticks(np.arange(0, 1000, 200));\n",
    "\n",
    "labels = [\"0\"]*len(test0)\n",
    "for i, txt in enumerate(labels): \n",
    "    plt.annotate(txt, (test0[\"x\"][i], test0[\"y\"][i]));\n",
    "    "
   ]
  },
  {
   "cell_type": "code",
   "execution_count": null,
   "metadata": {},
   "outputs": [],
   "source": []
  },
  {
   "cell_type": "code",
   "execution_count": null,
   "metadata": {},
   "outputs": [],
   "source": []
  },
  {
   "cell_type": "code",
   "execution_count": null,
   "metadata": {},
   "outputs": [],
   "source": []
  },
  {
   "cell_type": "code",
   "execution_count": null,
   "metadata": {},
   "outputs": [],
   "source": []
  },
  {
   "cell_type": "code",
   "execution_count": 39,
   "metadata": {},
   "outputs": [
    {
     "data": {
      "application/vnd.jupyter.widget-view+json": {
       "model_id": "7914d5ca06224a3ea6ae35f88a1b304d",
       "version_major": 2,
       "version_minor": 0
      },
      "text/plain": [
       "interactive(children=(IntSlider(value=0, description='index', max=6), Output()), _dom_classes=('widget-interac…"
      ]
     },
     "metadata": {},
     "output_type": "display_data"
    }
   ],
   "source": [
    "#sanity check (note the ylim scale limits when comparing!)\n",
    "temp = array1_timepoints[[\"x\", \"y\", \"timept\"]].groupby(\"timept\").agg(list)\n",
    "\n",
    "@interact(index=(0, 6))\n",
    "def scatter(index=0): \n",
    "    x = temp.iloc[index,:][\"x\"]\n",
    "    y = temp.iloc[index,:][\"y\"]\n",
    "    plt.scatter(x, y)\n",
    "    \n",
    "    #formatting:\n",
    "    plt.xlim([0, 1400])\n",
    "    plt.xticks(np.arange(0, 1400, 200))\n",
    "    plt.ylim([1000, 0])\n",
    "    plt.yticks(np.arange(0, 1000, 200))"
   ]
  },
  {
   "cell_type": "code",
   "execution_count": null,
   "metadata": {},
   "outputs": [],
   "source": []
  },
  {
   "cell_type": "code",
   "execution_count": null,
   "metadata": {},
   "outputs": [],
   "source": []
  },
  {
   "cell_type": "code",
   "execution_count": 29,
   "metadata": {},
   "outputs": [
    {
     "data": {
      "text/plain": [
       "array([  0,   1,   2,   3,   4,   5,   6,   7,   8,   9,  10,  11,  12,\n",
       "        13,  14,  15,  16,  17,  18,  19,  20,  21,  22,  23,  24,  25,\n",
       "        26,  27,  28,  29,  30,  31,  32,  33,  34,  35,  17,  36,  37,\n",
       "        38,  39,  40,  41,  42,  43,  44,  45,  46,  47,  48,  49,  50,\n",
       "        51,  52,  53,  54,  55,  56,  57,  58,  59,  60,  61,  62,  63,\n",
       "        43,  64,  65,  49,  66,  67,  68,  69,  70,  71,  57,  72,  73,\n",
       "        74,  75,  76,  77,  78,  79,  80,  81,  82,  83,  84,  85,  86,\n",
       "        87,  88,  89,  90,  91,  92,  93,  72,  94,  95,  96,  97,  98,\n",
       "        99, 100])"
      ]
     },
     "execution_count": 29,
     "metadata": {},
     "output_type": "execute_result"
    }
   ],
   "source": [
    "cluster = DBSCAN(eps=1, min_samples=1) #can specify min distance to be considered neighbors,  min # of samples in neighborhood \n",
    "cluster.fit_predict(trial1) #fits clustering algorithm and returns a cluster label\n",
    "\n",
    "#giving me a noisy label of -1...why?"
   ]
  },
  {
   "cell_type": "code",
   "execution_count": 30,
   "metadata": {},
   "outputs": [
    {
     "data": {
      "image/png": "[encoded data removed]",
      "text/plain": [
       "<Figure size 720x504 with 1 Axes>"
      ]
     },
     "metadata": {
      "needs_background": "light"
     },
     "output_type": "display_data"
    }
   ],
   "source": [
    "plt.figure(figsize=(10, 7))  \n",
    "plt.scatter(trial1[\"x\"], trial1[\"y\"], c=cluster.labels_);"
   ]
  },
  {
   "cell_type": "code",
   "execution_count": null,
   "metadata": {},
   "outputs": [],
   "source": []
  },
  {
   "cell_type": "code",
   "execution_count": null,
   "metadata": {},
   "outputs": [],
   "source": []
  },
  {
   "cell_type": "code",
   "execution_count": null,
   "metadata": {},
   "outputs": [],
   "source": []
  },
  {
   "cell_type": "code",
   "execution_count": null,
   "metadata": {},
   "outputs": [],
   "source": []
  }
 ],
 "metadata": {
  "kernelspec": {
   "display_name": "Python 3",
   "language": "python",
   "name": "python3"
  },
  "language_info": {
   "codemirror_mode": {
    "name": "ipython",
    "version": 3
   },
   "file_extension": ".py",
   "mimetype": "text/x-python",
   "name": "python",
   "nbconvert_exporter": "python",
   "pygments_lexer": "ipython3",
   "version": "3.6.8"
  }
 },
 "nbformat": 4,
 "nbformat_minor": 2
}
