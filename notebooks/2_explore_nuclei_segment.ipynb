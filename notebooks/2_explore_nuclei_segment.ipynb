{
 "cells": [
  {
   "cell_type": "markdown",
   "metadata": {},
   "source": [
    "## 2.explore_nuclei segmentation\n",
    "\n",
    "From `NucleiSegmentation_MIP_Dapi_Lamina` from Jenna's script: `/reading_czi_stack_videos_GH/imageAnalysis_jenna/HelperFunctionsforImageProcessing.py`"
   ]
  },
  {
   "cell_type": "markdown",
   "metadata": {},
   "source": [
    "## Other Goals\n",
    "\n",
    "- [ ] Stitch together videos from different areas. \n",
    "- [ ] Normalize for curvature? \n",
    "- [ ] Identify where on a zoomed out image the orginal was taken\n",
    "- [ ] Get the time. \n",
    "- [ ] number each nuclei\n"
   ]
  },
  {
   "cell_type": "code",
   "execution_count": 2,
   "metadata": {},
   "outputs": [],
   "source": [
    "import czifile\n",
    "import matplotlib.pyplot as plt\n",
    "import matplotlib.animation as animation\n",
    "import numpy as np\n",
    "from skimage import filters, measure, segmentation, feature, img_as_ubyte, morphology\n",
    "from scipy import ndimage as ndi\n",
    "import pandas as pd\n",
    "\n",
    "## Colors\n",
    "\n",
    "from matplotlib import cm\n",
    "from colorspacious import cspace_converter\n",
    "from collections import OrderedDict\n",
    "\n",
    "# Set up formatting for the movie files\n",
    "# install: https://stackoverflow.com/questions/13316397/matplotlib-animation-no-moviewriters-available\n",
    "Writer = animation.writers['ffmpeg']\n",
    "writer = Writer(fps=15, metadata=dict(artist='Me'), bitrate=1800)\n",
    "\n",
    "## Set where image is displayed\n",
    "%matplotlib inline \n",
    "%matplotlib notebook \n",
    "## %matplotlib qt "
   ]
  },
  {
   "cell_type": "code",
   "execution_count": 3,
   "metadata": {},
   "outputs": [
    {
     "ename": "FileNotFoundError",
     "evalue": "[Errno 2] No such file or directory: '/Users/samanthatang/reading_czi_stack_videos/data/2018-10-17/dmel_st14__i_63x-04.czi'",
     "output_type": "error",
     "traceback": [
      "\u001b[0;31m---------------------------------------------------------------------------\u001b[0m",
      "\u001b[0;31mFileNotFoundError\u001b[0m                         Traceback (most recent call last)",
      "\u001b[0;32m<ipython-input-3-7f1cef2a365d>\u001b[0m in \u001b[0;36m<module>\u001b[0;34m\u001b[0m\n\u001b[1;32m      1\u001b[0m \u001b[0;31m## Read in example file\u001b[0m\u001b[0;34m\u001b[0m\u001b[0;34m\u001b[0m\u001b[0;34m\u001b[0m\u001b[0m\n\u001b[0;32m----> 2\u001b[0;31m \u001b[0marray\u001b[0m \u001b[0;34m=\u001b[0m \u001b[0mczifile\u001b[0m\u001b[0;34m.\u001b[0m\u001b[0mimread\u001b[0m\u001b[0;34m(\u001b[0m\u001b[0;34m\"../../reading_czi_stack_videos/data/2018-10-17/dmel_st14__i_63x-04.czi\"\u001b[0m\u001b[0;34m)\u001b[0m\u001b[0;34m\u001b[0m\u001b[0;34m\u001b[0m\u001b[0m\n\u001b[0m\u001b[1;32m      3\u001b[0m \u001b[0;34m\u001b[0m\u001b[0m\n\u001b[1;32m      4\u001b[0m \u001b[0;31m## Use squeeze to get rid of channels my data doesnt have.\u001b[0m\u001b[0;34m\u001b[0m\u001b[0;34m\u001b[0m\u001b[0;34m\u001b[0m\u001b[0m\n\u001b[1;32m      5\u001b[0m \u001b[0marray\u001b[0m \u001b[0;34m=\u001b[0m \u001b[0marray\u001b[0m\u001b[0;34m.\u001b[0m\u001b[0msqueeze\u001b[0m\u001b[0;34m(\u001b[0m\u001b[0;34m)\u001b[0m\u001b[0;34m\u001b[0m\u001b[0;34m\u001b[0m\u001b[0m\n",
      "\u001b[0;32m~/anaconda3/lib/python3.6/site-packages/czifile/czifile.py\u001b[0m in \u001b[0;36mimread\u001b[0;34m(filename, *args, **kwargs)\u001b[0m\n\u001b[1;32m    218\u001b[0m \u001b[0;34m\u001b[0m\u001b[0m\n\u001b[1;32m    219\u001b[0m     \"\"\"\n\u001b[0;32m--> 220\u001b[0;31m     \u001b[0;32mwith\u001b[0m \u001b[0mCziFile\u001b[0m\u001b[0;34m(\u001b[0m\u001b[0mfilename\u001b[0m\u001b[0;34m)\u001b[0m \u001b[0;32mas\u001b[0m \u001b[0mczi\u001b[0m\u001b[0;34m:\u001b[0m\u001b[0;34m\u001b[0m\u001b[0;34m\u001b[0m\u001b[0m\n\u001b[0m\u001b[1;32m    221\u001b[0m         \u001b[0mresult\u001b[0m \u001b[0;34m=\u001b[0m \u001b[0mczi\u001b[0m\u001b[0;34m.\u001b[0m\u001b[0masarray\u001b[0m\u001b[0;34m(\u001b[0m\u001b[0;34m*\u001b[0m\u001b[0margs\u001b[0m\u001b[0;34m,\u001b[0m \u001b[0;34m**\u001b[0m\u001b[0mkwargs\u001b[0m\u001b[0;34m)\u001b[0m\u001b[0;34m\u001b[0m\u001b[0;34m\u001b[0m\u001b[0m\n\u001b[1;32m    222\u001b[0m     \u001b[0;32mreturn\u001b[0m \u001b[0mresult\u001b[0m\u001b[0;34m\u001b[0m\u001b[0;34m\u001b[0m\u001b[0m\n",
      "\u001b[0;32m~/anaconda3/lib/python3.6/site-packages/czifile/czifile.py\u001b[0m in \u001b[0;36m__init__\u001b[0;34m(self, arg, multifile, filesize, detectmosaic)\u001b[0m\n\u001b[1;32m    261\u001b[0m \u001b[0;34m\u001b[0m\u001b[0m\n\u001b[1;32m    262\u001b[0m         \"\"\"\n\u001b[0;32m--> 263\u001b[0;31m         \u001b[0mself\u001b[0m\u001b[0;34m.\u001b[0m\u001b[0m_fh\u001b[0m \u001b[0;34m=\u001b[0m \u001b[0mFileHandle\u001b[0m\u001b[0;34m(\u001b[0m\u001b[0marg\u001b[0m\u001b[0;34m,\u001b[0m \u001b[0msize\u001b[0m\u001b[0;34m=\u001b[0m\u001b[0mfilesize\u001b[0m\u001b[0;34m)\u001b[0m\u001b[0;34m\u001b[0m\u001b[0;34m\u001b[0m\u001b[0m\n\u001b[0m\u001b[1;32m    264\u001b[0m         \u001b[0;32mtry\u001b[0m\u001b[0;34m:\u001b[0m\u001b[0;34m\u001b[0m\u001b[0;34m\u001b[0m\u001b[0m\n\u001b[1;32m    265\u001b[0m             \u001b[0;32mif\u001b[0m \u001b[0mself\u001b[0m\u001b[0;34m.\u001b[0m\u001b[0m_fh\u001b[0m\u001b[0;34m.\u001b[0m\u001b[0mread\u001b[0m\u001b[0;34m(\u001b[0m\u001b[0;36m10\u001b[0m\u001b[0;34m)\u001b[0m \u001b[0;34m!=\u001b[0m \u001b[0;34mb'ZISRAWFILE'\u001b[0m\u001b[0;34m:\u001b[0m\u001b[0;34m\u001b[0m\u001b[0;34m\u001b[0m\u001b[0m\n",
      "\u001b[0;32m~/anaconda3/lib/python3.6/site-packages/tifffile/tifffile.py\u001b[0m in \u001b[0;36m__init__\u001b[0;34m(self, file, mode, name, offset, size)\u001b[0m\n\u001b[1;32m   6029\u001b[0m         \u001b[0mself\u001b[0m\u001b[0;34m.\u001b[0m\u001b[0mis_file\u001b[0m \u001b[0;34m=\u001b[0m \u001b[0;32mFalse\u001b[0m\u001b[0;34m\u001b[0m\u001b[0;34m\u001b[0m\u001b[0m\n\u001b[1;32m   6030\u001b[0m         \u001b[0mself\u001b[0m\u001b[0;34m.\u001b[0m\u001b[0m_lock\u001b[0m \u001b[0;34m=\u001b[0m \u001b[0mNullContext\u001b[0m\u001b[0;34m(\u001b[0m\u001b[0;34m)\u001b[0m\u001b[0;34m\u001b[0m\u001b[0;34m\u001b[0m\u001b[0m\n\u001b[0;32m-> 6031\u001b[0;31m         \u001b[0mself\u001b[0m\u001b[0;34m.\u001b[0m\u001b[0mopen\u001b[0m\u001b[0;34m(\u001b[0m\u001b[0;34m)\u001b[0m\u001b[0;34m\u001b[0m\u001b[0;34m\u001b[0m\u001b[0m\n\u001b[0m\u001b[1;32m   6032\u001b[0m \u001b[0;34m\u001b[0m\u001b[0m\n\u001b[1;32m   6033\u001b[0m     \u001b[0;32mdef\u001b[0m \u001b[0mopen\u001b[0m\u001b[0;34m(\u001b[0m\u001b[0mself\u001b[0m\u001b[0;34m)\u001b[0m\u001b[0;34m:\u001b[0m\u001b[0;34m\u001b[0m\u001b[0;34m\u001b[0m\u001b[0m\n",
      "\u001b[0;32m~/anaconda3/lib/python3.6/site-packages/tifffile/tifffile.py\u001b[0m in \u001b[0;36mopen\u001b[0;34m(self)\u001b[0m\n\u001b[1;32m   6042\u001b[0m             \u001b[0mself\u001b[0m\u001b[0;34m.\u001b[0m\u001b[0m_file\u001b[0m \u001b[0;34m=\u001b[0m \u001b[0mos\u001b[0m\u001b[0;34m.\u001b[0m\u001b[0mpath\u001b[0m\u001b[0;34m.\u001b[0m\u001b[0mrealpath\u001b[0m\u001b[0;34m(\u001b[0m\u001b[0mself\u001b[0m\u001b[0;34m.\u001b[0m\u001b[0m_file\u001b[0m\u001b[0;34m)\u001b[0m\u001b[0;34m\u001b[0m\u001b[0;34m\u001b[0m\u001b[0m\n\u001b[1;32m   6043\u001b[0m             \u001b[0mself\u001b[0m\u001b[0;34m.\u001b[0m\u001b[0m_dir\u001b[0m\u001b[0;34m,\u001b[0m \u001b[0mself\u001b[0m\u001b[0;34m.\u001b[0m\u001b[0m_name\u001b[0m \u001b[0;34m=\u001b[0m \u001b[0mos\u001b[0m\u001b[0;34m.\u001b[0m\u001b[0mpath\u001b[0m\u001b[0;34m.\u001b[0m\u001b[0msplit\u001b[0m\u001b[0;34m(\u001b[0m\u001b[0mself\u001b[0m\u001b[0;34m.\u001b[0m\u001b[0m_file\u001b[0m\u001b[0;34m)\u001b[0m\u001b[0;34m\u001b[0m\u001b[0;34m\u001b[0m\u001b[0m\n\u001b[0;32m-> 6044\u001b[0;31m             \u001b[0mself\u001b[0m\u001b[0;34m.\u001b[0m\u001b[0m_fh\u001b[0m \u001b[0;34m=\u001b[0m \u001b[0mopen\u001b[0m\u001b[0;34m(\u001b[0m\u001b[0mself\u001b[0m\u001b[0;34m.\u001b[0m\u001b[0m_file\u001b[0m\u001b[0;34m,\u001b[0m \u001b[0mself\u001b[0m\u001b[0;34m.\u001b[0m\u001b[0m_mode\u001b[0m\u001b[0;34m)\u001b[0m\u001b[0;34m\u001b[0m\u001b[0;34m\u001b[0m\u001b[0m\n\u001b[0m\u001b[1;32m   6045\u001b[0m             \u001b[0mself\u001b[0m\u001b[0;34m.\u001b[0m\u001b[0m_close\u001b[0m \u001b[0;34m=\u001b[0m \u001b[0;32mTrue\u001b[0m\u001b[0;34m\u001b[0m\u001b[0;34m\u001b[0m\u001b[0m\n\u001b[1;32m   6046\u001b[0m             \u001b[0;32mif\u001b[0m \u001b[0mself\u001b[0m\u001b[0;34m.\u001b[0m\u001b[0m_offset\u001b[0m \u001b[0;32mis\u001b[0m \u001b[0;32mNone\u001b[0m\u001b[0;34m:\u001b[0m\u001b[0;34m\u001b[0m\u001b[0;34m\u001b[0m\u001b[0m\n",
      "\u001b[0;31mFileNotFoundError\u001b[0m: [Errno 2] No such file or directory: '/Users/samanthatang/reading_czi_stack_videos/data/2018-10-17/dmel_st14__i_63x-04.czi'"
     ]
    }
   ],
   "source": [
    "## Read in example file\n",
    "array = czifile.imread(\"../../reading_czi_stack_videos/data/2018-10-17/dmel_st14__i_63x-04.czi\")\n",
    "\n",
    "## Use squeeze to get rid of channels my data doesnt have.\n",
    "array = array.squeeze()\n",
    "\n",
    "array.shape ## Check"
   ]
  },
  {
   "cell_type": "code",
   "execution_count": null,
   "metadata": {},
   "outputs": [],
   "source": [
    "## Usining the colon, you can get all slices scanned and make a zstack\n",
    "zstack = array[11, 1, :, ...]\n",
    "zstack.shape\n",
    "\n",
    "zstack_MAX= np.max(zstack, axis=0)\n",
    "plt.imshow(zstack_MAX)\n",
    "plt.show()"
   ]
  },
  {
   "cell_type": "code",
   "execution_count": null,
   "metadata": {},
   "outputs": [],
   "source": [
    "# Convert to 8bit\n",
    "zstack_MAX_8bit = img_as_ubyte(zstack_MAX)\n",
    "plt.figure()\n",
    "plt.imshow(zstack_MAX_8bit)\n"
   ]
  },
  {
   "cell_type": "code",
   "execution_count": null,
   "metadata": {},
   "outputs": [],
   "source": [
    "#### PART 1: Find centers with a conservative threshold\n",
    "### First perform the conservative threshold on every point in the Z axis with the Otsu threshold\n",
    "zstack_MAX_8bit_GausFilt = ndi.filters.gaussian_filter(zstack_MAX_8bit, 1) # blur image and remove noise\n",
    "\n",
    "otsuthresh = filters.threshold_otsu(zstack_MAX_8bit_GausFilt) # grey scale \n",
    "zstack_MAX_8bit_GausFilt_localtheshold = zstack_MAX_8bit_GausFilt > otsuthresh\n",
    "\n",
    "plt.figure()\n",
    "plt.imshow(zstack_MAX_8bit_GausFilt_localtheshold, cmap = \"Greys\")"
   ]
  },
  {
   "cell_type": "markdown",
   "metadata": {},
   "source": [
    "## Calling the Centers\n",
    "\n",
    "- [Euclidean distance transform](https://medium.com/on-coding/euclidean-distance-transform-d37e06958216)"
   ]
  },
  {
   "cell_type": "code",
   "execution_count": null,
   "metadata": {},
   "outputs": [],
   "source": [
    "#### Then Call centers \n",
    "### Distance transform\n",
    "distancetransform_combined_final = ndi.distance_transform_edt(zstack_MAX_8bit_GausFilt_localtheshold)\n",
    "\n",
    "#### smoothen the distance transform\n",
    "distancetransform_combined_final_gaus = ndi.filters.gaussian_filter(distancetransform_combined_final, 10)\n",
    "\n",
    "plt.figure()\n",
    "plt.imshow(distancetransform_combined_final_gaus, cmap = \"Reds\")"
   ]
  },
  {
   "cell_type": "code",
   "execution_count": null,
   "metadata": {},
   "outputs": [],
   "source": [
    "#### Retrieve the local maxima from the distance transform\n",
    "## Gives a true false for every pixel if it is the max local peak?\n",
    "Local_max = feature.peak_local_max(distancetransform_combined_final_gaus, indices = False, min_distance = 40)\n",
    "Local_max_bigger = ndi.filters.maximum_filter(Local_max, size=20)\n",
    "\n",
    "#makes a mask so that I can visualize on top of the original image\n",
    "Local_max_mask = np.ma.array(Local_max_bigger, mask=Local_max_bigger==0)\n",
    "\n",
    "#Add that mask back into the watershed image\n",
    "CenterPointArrays = Local_max_bigger"
   ]
  },
  {
   "cell_type": "code",
   "execution_count": null,
   "metadata": {},
   "outputs": [],
   "source": [
    "#### PART 2: Now make a mask with a permissive threshold that goes all the way to the edges of the nuclei.\n",
    "image_GausFilt = ndi.filters.gaussian_filter(zstack_MAX_8bit, 20)\n",
    "localthresh = filters.threshold_local(image_GausFilt, 41)\n",
    "image_GausFilt_localtheshold = image_GausFilt > localthresh\n",
    "image_GausFilt_localtheshold_dilate = morphology.binary_dilation(image_GausFilt_localtheshold)\n",
    "EdgeMask = image_GausFilt_localtheshold_dilate\n",
    "\n",
    "#### Part 3: watershed\n",
    "## Seperate objects\n",
    "CenterPointArrays_items, num = ndi.label(CenterPointArrays)\n",
    "\n",
    "## Watershed\n",
    "watershed_image = morphology.watershed(~zstack_MAX_8bit_GausFilt, CenterPointArrays_items, mask = EdgeMask)\n",
    "\n",
    "#### Part 4: Clear borders\n",
    "Watershed_ClearBorders = segmentation.clear_border(watershed_image)\n",
    "\n",
    "### Itemize\n",
    "labeled_array_segmentation, num_features_seg = ndi.label(Local_max_mask)\n",
    "\n",
    "## Don't understand how the CenterPointArrays is actually specifying points,\n",
    "## I need to figure this out so I can assign nuclei identities"
   ]
  },
  {
   "cell_type": "code",
   "execution_count": null,
   "metadata": {},
   "outputs": [],
   "source": [
    "## EdgeMask Gaussian septerated. \n",
    "## Why not just do this instead of watershed?\n",
    "EdgeMask_gauss = ndi.filters.gaussian_filter(EdgeMask, .5)\n",
    "plt.figure()\n",
    "plt.imshow(EdgeMask_gauss, \"Greys\")"
   ]
  },
  {
   "cell_type": "markdown",
   "metadata": {},
   "source": [
    "## Visualize"
   ]
  },
  {
   "cell_type": "code",
   "execution_count": null,
   "metadata": {
    "scrolled": false
   },
   "outputs": [],
   "source": [
    "\n",
    "fig, axs = plt.subplots(nrows = 7, ncols = 5, figsize=(10, 10))\n",
    "fig.suptitle('MIP Otsu mean + Thresholding Output')\n",
    "\n",
    "plt.subplot(2,2,1)\n",
    "plt.title('Centerpoints')\n",
    "plt.imshow(zstack_MAX_8bit)\n",
    "plt.imshow(CenterPointArrays,  cmap = 'Reds', alpha = 0.4)\n",
    "\n",
    "plt.subplot(2,2,2)\n",
    "plt.title('EdgeMask')\n",
    "plt.imshow(EdgeMask, alpha = 0.2, cmap = 'Greys')\n",
    "\n",
    "plt.subplot(2,2,3)\n",
    "plt.title('Watershed')\n",
    "plt.imshow(watershed_image)\n",
    "\n",
    "plt.subplot(2,2,4)\n",
    "plt.title('Watershed No borders')\n",
    "plt.imshow(Watershed_ClearBorders)"
   ]
  },
  {
   "cell_type": "markdown",
   "metadata": {},
   "source": [
    "### Next Step: Putting it all together\n",
    "\n",
    "Now I want to put it all together so I can visualize \n",
    "\n",
    "- [x] Animate through all the maximum projections\n",
    "- [ ] Do above on each z-stack\n",
    "- [ ] Get tme incorporated\n"
   ]
  },
  {
   "cell_type": "code",
   "execution_count": null,
   "metadata": {},
   "outputs": [],
   "source": [
    "## One thing to keep in mind is that the last scan is likely always less than total \n",
    "## We should drop the last z-stack = len(array)-1)\n",
    "\n",
    "result_array =  np.zeros((1,928,1389))\n",
    "type(result_array)\n",
    "\n",
    "for i in range(1,len(array)-1):\n",
    "    zstack_temp = array[i, 1, :, ...]\n",
    "    result = np.expand_dims(np.max(zstack_temp, axis=0), axis = 0)\n",
    "    result_array = np.append(result_array, result, axis = 0)\n",
    "\n",
    "result_array = np.delete(result_array, 0, axis=0) # remove the empty starter array\n",
    "\n",
    "np.shape(result_array)"
   ]
  },
  {
   "cell_type": "code",
   "execution_count": null,
   "metadata": {},
   "outputs": [],
   "source": [
    "## go through each image in the z-stack\n",
    "fig, ax = plt.subplots()\n",
    "ax.axis('off') \n",
    "im = ax.imshow(result_array[1, :, :])\n",
    "\n",
    "def update(i): # setting up the first image\n",
    "    # Update method - What you want your figure to look like every single time\n",
    "    im.set_array(result_array[i, :, :]) \n",
    "    return [im] #returned as a iterable object as a list.\n",
    "    print(im)\n",
    "    # frames is how long, by specifing how many images\n",
    "    \n",
    "movie = animation.FuncAnimation(fig, update, interval=300, frames=result_array.shape[0], blit=True)\n",
    "plt.show()"
   ]
  },
  {
   "cell_type": "markdown",
   "metadata": {},
   "source": [
    "## Adding them both together to create movie"
   ]
  },
  {
   "cell_type": "markdown",
   "metadata": {},
   "source": [
    "This seems to work great.  A few points\n",
    "\n",
    "1. The next step obviously would be to animate with the video. \n",
    "2. What do we do with the edge cases? What does the hernan lab do with them?\n",
    "3. Smooth the edges so they are pretty.\n",
    "\n",
    "Need to learn how to mess with colors:\n",
    "https://matplotlib.org/3.1.0/tutorials/colors/colormap-manipulation.html"
   ]
  },
  {
   "cell_type": "code",
   "execution_count": null,
   "metadata": {},
   "outputs": [],
   "source": [
    "## Read in example files\n",
    "\n",
    "\n",
    "array1 = czifile.imread(\"../data/2018-10-17/dmel_st14__i_63x-02.czi\")\n",
    "array2 = czifile.imread(\"../data/2018-10-17/dmel_st14__i_63x-03.czi\")\n",
    "array3 = czifile.imread(\"../data/2018-10-17/dmel_st14__i_63x-04.czi\")\n",
    "array4 = czifile.imread(\"../data/2018-10-17/dmel_st14__i_63x-05.czi\")\n",
    "\n",
    "array = np.append(array1, array2, axis=2)\n",
    "array = np.append(array, array3, axis=2)\n",
    "array = np.append(array, array4, axis=2)\n",
    "\n",
    "## Use squeeze to get rid of channels my data doesnt have.\n",
    "array = array.squeeze()\n",
    "np.shape(array)"
   ]
  },
  {
   "cell_type": "code",
   "execution_count": null,
   "metadata": {},
   "outputs": [],
   "source": [
    "## Visualize full raw zstack\n",
    "## One thing to keep in mind is that the last scan is likely always less than total \n",
    "## We should drop the last z-stack = len(array)-1)\n",
    "\n",
    "result_array =  np.zeros((1,928,1389))\n",
    "type(result_array)\n",
    "\n",
    "for i in range(1,len(array)-1):\n",
    "    zstack_temp = array[i, 1, :, ...]\n",
    "    result = np.expand_dims(np.max(zstack_temp, axis=0), axis = 0)\n",
    "    result_array = np.append(result_array, result, axis = 0)\n",
    "\n",
    "result_array = np.delete(result_array, 0, axis=0) # remove the empty starter array\n",
    "\n",
    "np.shape(result_array)"
   ]
  },
  {
   "cell_type": "code",
   "execution_count": null,
   "metadata": {},
   "outputs": [],
   "source": [
    "## go through each image in the z-stack\n",
    "fig, ax = plt.subplots()\n",
    "ax.axis('off') \n",
    "im = ax.imshow(result_array[1, :, :])\n",
    "\n",
    "def update(i): # setting up the first image\n",
    "    # Update method - What you want your figure to look like every single time\n",
    "    im.set_array(result_array[i, :, :]) \n",
    "    return [im] #returned as a iterable object as a list.\n",
    "    print(im)\n",
    "    # frames is how long, by specifing how many images\n",
    "    \n",
    "movie = animation.FuncAnimation(fig, update, interval=300, frames=result_array.shape[0], blit=True)\n",
    "plt.show()"
   ]
  },
  {
   "cell_type": "code",
   "execution_count": null,
   "metadata": {},
   "outputs": [],
   "source": [
    "\n",
    "# save the animation as an mp4.  This requires ffmpeg or mencoder to be\n",
    "# installed.  The extra_args ensure that the x264 codec is used, so that\n",
    "# the video can be embedded in html5.  You may need to adjust this for\n",
    "# your system: for more information, see\n",
    "# http://matplotlib.sourceforge.net/api/animation_api.html\n",
    "im_ani = animation.FuncAnimation(fig, update, interval=100, frames=result_array.shape[0], blit=True)\n",
    "im_ani.save('im.mp4', writer=writer)"
   ]
  }
 ],
 "metadata": {
  "kernelspec": {
   "display_name": "Python 3",
   "language": "python",
   "name": "python3"
  },
  "language_info": {
   "codemirror_mode": {
    "name": "ipython",
    "version": 3
   },
   "file_extension": ".py",
   "mimetype": "text/x-python",
   "name": "python",
   "nbconvert_exporter": "python",
   "pygments_lexer": "ipython3",
   "version": "3.6.8"
  }
 },
 "nbformat": 4,
 "nbformat_minor": 2
}
