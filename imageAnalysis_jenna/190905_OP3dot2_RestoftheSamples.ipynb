{
 "cells": [
  {
   "cell_type": "markdown",
   "metadata": {},
   "source": [
    "# 190905_OP3dot2_restofthesamples\n",
    "\n",
    "\n",
    "So I ran code called 190603_NormalizedIntensityGraphs.py on just the good files for sample 1 (precell targets) of OP 3.2 earlier this year. I want to run on the rest of the samples that I imaged. I also should finish imaging the rest of the samples >< oops."
   ]
  },
  {
   "cell_type": "code",
   "execution_count": 4,
   "metadata": {},
   "outputs": [
    {
     "ename": "FileNotFoundError",
     "evalue": "[Errno 2] No such file or directory: '/Users/jennahaines/Box Sync/Eisen_Lab/Experiments/DNAFish/OligoPaints/190114-Oligopaint3.2/results/190905-NormalizedIntensityGraphs_sample2'",
     "output_type": "error",
     "traceback": [
      "\u001b[0;31m---------------------------------------------------------------------------\u001b[0m",
      "\u001b[0;31mFileNotFoundError\u001b[0m                         Traceback (most recent call last)",
      "\u001b[0;32m<ipython-input-4-c8e5fb0cb491>\u001b[0m in \u001b[0;36m<module>\u001b[0;34m\u001b[0m\n\u001b[1;32m     18\u001b[0m \u001b[0mNotebookResultsPath\u001b[0m \u001b[0;34m=\u001b[0m \u001b[0;34m(\u001b[0m\u001b[0mProjectDirectory\u001b[0m \u001b[0;34m+\u001b[0m \u001b[0;34m'/results/190905-NormalizedIntensityGraphs_sample2'\u001b[0m\u001b[0;34m)\u001b[0m\u001b[0;34m\u001b[0m\u001b[0;34m\u001b[0m\u001b[0m\n\u001b[1;32m     19\u001b[0m \u001b[0mProjectData\u001b[0m \u001b[0;34m=\u001b[0m \u001b[0;34m(\u001b[0m\u001b[0;34m'/Volumes/Imaging/Jenna/2019/2019-01-16/2019-01-18/'\u001b[0m\u001b[0;34m)\u001b[0m\u001b[0;34m\u001b[0m\u001b[0;34m\u001b[0m\u001b[0m\n\u001b[0;32m---> 20\u001b[0;31m \u001b[0mos\u001b[0m\u001b[0;34m.\u001b[0m\u001b[0mchdir\u001b[0m\u001b[0;34m(\u001b[0m\u001b[0mNotebookResultsPath\u001b[0m\u001b[0;34m)\u001b[0m\u001b[0;34m\u001b[0m\u001b[0;34m\u001b[0m\u001b[0m\n\u001b[0m",
      "\u001b[0;31mFileNotFoundError\u001b[0m: [Errno 2] No such file or directory: '/Users/jennahaines/Box Sync/Eisen_Lab/Experiments/DNAFish/OligoPaints/190114-Oligopaint3.2/results/190905-NormalizedIntensityGraphs_sample2'"
     ]
    }
   ],
   "source": [
    "import czifile\n",
    "import matplotlib.pyplot as plt\n",
    "from scipy import ndimage as ndi\n",
    "from skimage import filters, measure, segmentation, feature, img_as_ubyte, morphology\n",
    "import numpy as np\n",
    "%matplotlib inline \n",
    "import os\n",
    "from os import listdir\n",
    "from math import sqrt\n",
    "import seaborn as sea\n",
    "import pickle\n",
    "import pandas as pd\n",
    "from HelperFunctionsforImageProcessing import NucleiSegmentation_MIP_Dapi_Lamina, CZIMetadatatoDictionaries, CellEdgeMask, Threshold_DNASpots_triangle, Better_Threshold_DNASpots_triangle\n",
    "\n",
    "\n",
    "ProjectDirectory = ('/Users/jennahaines/Box Sync/Eisen_Lab/Experiments/DNAFish/OligoPaints/190114-Oligopaint3.2')\n",
    "ProjectBin = (ProjectDirectory + '/bin')\n",
    "NotebookResultsPath = (ProjectDirectory + '/results/190905-NormalizedIntensityGraphs_sample2')\n",
    "ProjectData = ('/Volumes/Imaging/Jenna/2019/2019-01-16/2019-01-18/')\n",
    "os.chdir(NotebookResultsPath)\n"
   ]
  },
  {
   "cell_type": "markdown",
   "metadata": {},
   "source": [
    "## Sample 2\n",
    "\n",
    "\n",
    "First thing I want to do is segment and save nuclei and dots for each of the images to get rid of any images that aren't good (are out of focus, have strange illumination issues, nuclei migration)"
   ]
  },
  {
   "cell_type": "code",
   "execution_count": 2,
   "metadata": {
    "collapsed": true
   },
   "outputs": [],
   "source": [
    "target_files = ['190114-oligopaint3.2-02-050809-Scene-01-M8-P1.czi',\n",
    "'190114-oligopaint3.2-02-050809-Scene-02-M8-P2.czi',\n",
    "'190114-oligopaint3.2-02-050809-Scene-03-M8-P3.czi',\n",
    "'190114-oligopaint3.2-02-050809-Scene-04-M8-P4.czi',\n",
    "'190114-oligopaint3.2-02-050809-Scene-05-M8-P5.czi',\n",
    "'190114-oligopaint3.2-02-050809-Scene-06-M8-P6.czi',\n",
    "'190114-oligopaint3.2-02-050809-Scene-07-M8-P7.czi',\n",
    "'190114-oligopaint3.2-02-050809-Scene-08-M8-P8.czi',\n",
    "'190114-oligopaint3.2-02-050809-Scene-09-M9-P1.czi',\n",
    "'190114-oligopaint3.2-02-050809-Scene-10-M9-P2.czi',\n",
    "'190114-oligopaint3.2-02-050809-Scene-11-M9-P3.czi',\n",
    "'190114-oligopaint3.2-02-050809-Scene-12-M9-P4.czi',\n",
    "'190114-oligopaint3.2-02-050809-Scene-13-M9-P5.czi',\n",
    "'190114-oligopaint3.2-02-050809-Scene-14-M9-P6.czi',\n",
    "'190114-oligopaint3.2-02-050809-Scene-15-M9-P7.czi',\n",
    "'190114-oligopaint3.2-02-050809-Scene-16-M9-P8.czi']"
   ]
  },
  {
   "cell_type": "code",
   "execution_count": 5,
   "metadata": {},
   "outputs": [
    {
     "ename": "NameError",
     "evalue": "name 'target_files' is not defined",
     "output_type": "error",
     "traceback": [
      "\u001b[0;31m---------------------------------------------------------------------------\u001b[0m",
      "\u001b[0;31mNameError\u001b[0m                                 Traceback (most recent call last)",
      "\u001b[0;32m<ipython-input-5-c8426eea83a6>\u001b[0m in \u001b[0;36m<module>\u001b[0;34m\u001b[0m\n\u001b[0;32m----> 1\u001b[0;31m \u001b[0;32mfor\u001b[0m \u001b[0mCziName\u001b[0m \u001b[0;32min\u001b[0m \u001b[0mtarget_files\u001b[0m\u001b[0;34m:\u001b[0m\u001b[0;34m\u001b[0m\u001b[0;34m\u001b[0m\u001b[0m\n\u001b[0m\u001b[1;32m      2\u001b[0m \u001b[0;34m\u001b[0m\u001b[0m\n\u001b[1;32m      3\u001b[0m     \u001b[0;31m#Function that takes the CZI file and splits it up into stacks based on the metadata\u001b[0m\u001b[0;34m\u001b[0m\u001b[0;34m\u001b[0m\u001b[0;34m\u001b[0m\u001b[0m\n\u001b[1;32m      4\u001b[0m     \u001b[0mAF405Stack\u001b[0m\u001b[0;34m,\u001b[0m \u001b[0mAF488Stack\u001b[0m\u001b[0;34m,\u001b[0m \u001b[0mAF647Stack\u001b[0m\u001b[0;34m,\u001b[0m \u001b[0mAF546Stack\u001b[0m \u001b[0;34m=\u001b[0m \u001b[0mCZIMetadatatoDictionaries\u001b[0m\u001b[0;34m(\u001b[0m\u001b[0mProjectData\u001b[0m\u001b[0;34m,\u001b[0m \u001b[0mCziName\u001b[0m\u001b[0;34m)\u001b[0m\u001b[0;34m\u001b[0m\u001b[0;34m\u001b[0m\u001b[0m\n\u001b[1;32m      5\u001b[0m \u001b[0;34m\u001b[0m\u001b[0m\n",
      "\u001b[0;31mNameError\u001b[0m: name 'target_files' is not defined"
     ]
    }
   ],
   "source": [
    "for CziName in target_files:\n",
    "\n",
    "    #Function that takes the CZI file and splits it up into stacks based on the metadata\n",
    "    AF405Stack, AF488Stack, AF647Stack, AF546Stack = CZIMetadatatoDictionaries(ProjectData, CziName) \n",
    "    \n",
    "    ############ Threshold nuclei based on 405 - lamina and 488 - Protein ############  \n",
    "    Watershed_ClearBorders = NucleiSegmentation_MIP_Dapi_Lamina(CziName, AF405Stack)\n",
    "    \n",
    "    ############ Threshold nuclei based on 405 - lamina and 488 - Protein ############ \n",
    "    Threshold_DNASpots_triangle(CziName, AF647Stack, AF546Stack, Watershed_ClearBorders)"
   ]
  },
  {
   "cell_type": "code",
   "execution_count": null,
   "metadata": {
    "collapsed": true
   },
   "outputs": [],
   "source": [
    "## These are the files I'm keeping --> didn't discard\n",
    "target_files = ['190114-oligopaint3.2-02-050809-Scene-01-M8-P1.czi',\n",
    "'190114-oligopaint3.2-02-050809-Scene-03-M8-P3.czi',\n",
    "'190114-oligopaint3.2-02-050809-Scene-04-M8-P4.czi',\n",
    "'190114-oligopaint3.2-02-050809-Scene-05-M8-P5.czi',\n",
    "'190114-oligopaint3.2-02-050809-Scene-06-M8-P6.czi',\n",
    "'190114-oligopaint3.2-02-050809-Scene-08-M8-P8.czi',\n",
    "'190114-oligopaint3.2-02-050809-Scene-09-M9-P1.czi',\n",
    "'190114-oligopaint3.2-02-050809-Scene-11-M9-P3.czi',\n",
    "'190114-oligopaint3.2-02-050809-Scene-12-M9-P4.czi',\n",
    "'190114-oligopaint3.2-02-050809-Scene-13-M9-P5.czi',\n",
    "'190114-oligopaint3.2-02-050809-Scene-14-M9-P6.czi',\n",
    "'190114-oligopaint3.2-02-050809-Scene-16-M9-P8.czi']\n",
    "\n",
    "### this is the old command that I used for the first round of files on 190603\n",
    "python 190603_NormalizedIntensityGraphs.py -P '/Users/jennahaines/Box Sync/Eisen_Lab/Experiments/DNAFish/OligoPaints/190114-Oligopaint3.2' \\\n",
    "-D '/Volumes/Imaging/Jenna/2019/2019-01-16/2019-01-17/selectfiles/' \\\n",
    "-R '190603-NormalizedIntensityGraphs_pythonscript'\n",
    "\n",
    "### this is the new command that I used for the second round of files 190505\n",
    "python 190603_NormalizedIntensityGraphs.py -P '/Users/jennahaines/Box Sync/Eisen_Lab/Experiments/DNAFish/OligoPaints/190114-Oligopaint3.2' \\\n",
    "-D '/Volumes/Imaging/Jenna/2019/2019-01-16/2019-01-18/selectfiles/' \\\n",
    "-R '190905-NormalizedIntensityGraphs_sample2'"
   ]
  },
  {
   "cell_type": "markdown",
   "metadata": {
    "collapsed": true
   },
   "source": [
    "## Sample 3 "
   ]
  },
  {
   "cell_type": "code",
   "execution_count": 8,
   "metadata": {
    "collapsed": true
   },
   "outputs": [],
   "source": [
    "ProjectDirectory = ('/Users/jennahaines/Box Sync/Eisen_Lab/Experiments/DNAFish/OligoPaints/190114-Oligopaint3.2')\n",
    "ProjectBin = (ProjectDirectory + '/bin')\n",
    "NotebookResultsPath = (ProjectDirectory + '/results/190906-NormalizedIntensityGraphs_sample3')\n",
    "ProjectData = ('/Volumes/Imaging/Jenna/2019/2019-01-16/2019-01-22/2019-01-22/')\n",
    "os.chdir(NotebookResultsPath)\n",
    "\n",
    "target_files = ['190114-oligopaint3.2-03-152639-Scene-01-M26-P1.czi',\n",
    "'190114-oligopaint3.2-03-152639-Scene-02-M26-P3.czi',\n",
    "'190114-oligopaint3.2-03-152639-Scene-03-M26-P4.czi',\n",
    "'190114-oligopaint3.2-03-152639-Scene-04-M26-P5.czi',\n",
    "'190114-oligopaint3.2-03-152639-Scene-05-M26-P6.czi',\n",
    "'190114-oligopaint3.2-03-152639-Scene-06-M26-P7.czi',\n",
    "'190114-oligopaint3.2-03-152639-Scene-07-M26-P8.czi',\n",
    "'190114-oligopaint3.2-03-152639-Scene-08-M26-P9.czi',\n",
    "'190114-oligopaint3.2-03-152639-Scene-09-M26-P10.czi',\n",
    "'190114-oligopaint3.2-03-152639-Scene-10-M39-P1.czi',\n",
    "'190114-oligopaint3.2-03-152639-Scene-11-M39-P2.czi',\n",
    "'190114-oligopaint3.2-03-152639-Scene-12-M39-P4.czi',\n",
    "'190114-oligopaint3.2-03-152639-Scene-13-M39-P5.czi',\n",
    "'190114-oligopaint3.2-03-152639-Scene-14-M39-P6.czi',\n",
    "'190114-oligopaint3.2-03-152639-Scene-15-M39-P7.czi',\n",
    "'190114-oligopaint3.2-03-152639-Scene-16-M39-P8.czi',\n",
    "'190114-oligopaint3.2-03-152639-Scene-17-M39-P9.czi',\n",
    "'190114-oligopaint3.2-03-152639-Scene-18-M39-P11.czi',\n",
    "'190114-oligopaint3.2-03-152639-Scene-19-M39-P12.czi',\n",
    "'190114-oligopaint3.2-03-152639-Scene-20-M15-P1.czi',\n",
    "'190114-oligopaint3.2-03-152639-Scene-21-M15-P2.czi',\n",
    "'190114-oligopaint3.2-03-152639-Scene-22-M15-P3.czi',\n",
    "'190114-oligopaint3.2-03-152639-Scene-23-M15-P4.czi',\n",
    "'190114-oligopaint3.2-03-152639-Scene-24-M15-P5.czi',\n",
    "'190114-oligopaint3.2-03-152639-Scene-25-M15-P6.czi']"
   ]
  },
  {
   "cell_type": "code",
   "execution_count": 11,
   "metadata": {},
   "outputs": [
    {
     "name": "stdout",
     "output_type": "stream",
     "text": [
      "This file is not a CZI file - get outta here : 190114-oligopaint3.2-03-152639.czi\n",
      "This file is not a CZI file - get outta here : Thumbs.db\n",
      "This file is not a CZI file - get outta here : .DS_Store\n",
      "This file is not a CZI file - get outta here : selectfiles\n",
      "['190114-oligopaint3.2-03-152639-Scene-03-M26-P4.czi', '190114-oligopaint3.2-03-152639-Scene-20-M15-P1.czi', '190114-oligopaint3.2-03-152639-Scene-21-M15-P2.czi', '190114-oligopaint3.2-03-152639-Scene-09-M26-P10.czi', '190114-oligopaint3.2-03-152639-Scene-22-M15-P3.czi', '190114-oligopaint3.2-03-152639-Scene-08-M26-P9.czi', '190114-oligopaint3.2-03-152639-Scene-16-M39-P8.czi', '190114-oligopaint3.2-03-152639-Scene-12-M39-P4.czi', '190114-oligopaint3.2-03-152639-Scene-24-M15-P5.czi', '190114-oligopaint3.2-03-152639-Scene-13-M39-P5.czi', '190114-oligopaint3.2-03-152639-Scene-19-M39-P12.czi', '190114-oligopaint3.2-03-152639-Scene-07-M26-P8.czi', '190114-oligopaint3.2-03-152639-Scene-11-M39-P2.czi', '190114-oligopaint3.2-03-152639-Scene-06-M26-P7.czi', '190114-oligopaint3.2-03-152639-Scene-18-M39-P11.czi', '190114-oligopaint3.2-03-152639-Scene-23-M15-P4.czi', '190114-oligopaint3.2-03-152639-Scene-15-M39-P7.czi', '190114-oligopaint3.2-03-152639-Scene-01-M26-P1.czi', '190114-oligopaint3.2-03-152639-Scene-04-M26-P5.czi', '190114-oligopaint3.2-03-152639-Scene-05-M26-P6.czi', '190114-oligopaint3.2-03-152639-Scene-17-M39-P9.czi', '190114-oligopaint3.2-03-152639-Scene-14-M39-P6.czi', '190114-oligopaint3.2-03-152639-Scene-25-M15-P6.czi', '190114-oligopaint3.2-03-152639-Scene-02-M26-P3.czi', '190114-oligopaint3.2-03-152639-Scene-10-M39-P1.czi']\n"
     ]
    }
   ],
   "source": [
    "filelist = os.listdir(ProjectData)\n",
    "\n",
    "target_files = []\n",
    "for fname in filelist:\n",
    "    if fname.endswith('.czi') and 'Scene' in fname:\n",
    "        target_files.append(fname)\n",
    "    else:\n",
    "         print(\"This file is not a CZI file - get outta here :\", fname)\n",
    "print(target_files)"
   ]
  },
  {
   "cell_type": "code",
   "execution_count": null,
   "metadata": {
    "collapsed": true
   },
   "outputs": [],
   "source": [
    "os.listdir(path)\n",
    "for CziName in target_files:\n",
    "\n",
    "    #Function that takes the CZI file and splits it up into stacks based on the metadata\n",
    "    AF405Stack, AF488Stack, AF647Stack, AF546Stack = CZIMetadatatoDictionaries(ProjectData, CziName) \n",
    "    \n",
    "    ############ Threshold nuclei based on 405 - lamina and 488 - Protein ############  \n",
    "    Watershed_ClearBorders = NucleiSegmentation_MIP_Dapi_Lamina(CziName, AF405Stack)\n",
    "    \n",
    "    ############ Threshold nuclei based on 405 - lamina and 488 - Protein ############ \n",
    "    Threshold_DNASpots_triangle(CziName, AF647Stack, AF546Stack, Watershed_ClearBorders)"
   ]
  },
  {
   "cell_type": "code",
   "execution_count": null,
   "metadata": {
    "collapsed": true
   },
   "outputs": [],
   "source": [
    "python 190906_SegmentandThresholdImagesforchecking.py -P '/Users/jennahaines/Box Sync/Eisen_Lab/Experiments/DNAFish/OligoPaints/190114-Oligopaint3.2' \\\n",
    "-D '/Volumes/Imaging/Jenna/2019/2019-01-16/2019-01-22/2019-01-22/' \\\n",
    "-R '190906-NormalizedIntensityGraphs_sample3'\n",
    "\n",
    "\n",
    "## took out numbers 8, 14,15, 18, 19 --> unfortunately there is no way for me to figure out the A-P axis order of the plots..  I can try looking at bicoid staining instensity \n",
    "\n",
    "### 190907 \n",
    "python 190603_NormalizedIntensityGraphs.py -P '/Users/jennahaines/Box Sync/Eisen_Lab/Experiments/DNAFish/OligoPaints/190114-Oligopaint3.2' \\\n",
    "-D '/Volumes/Imaging/Jenna/2019/2019-01-16/2019-01-22/2019-01-22/selectfiles/' \\\n",
    "-R '190906-NormalizedIntensityGraphs_sample3'"
   ]
  },
  {
   "cell_type": "markdown",
   "metadata": {},
   "source": [
    "## Sample 4"
   ]
  },
  {
   "cell_type": "code",
   "execution_count": null,
   "metadata": {
    "collapsed": true
   },
   "outputs": [],
   "source": [
    "python 190906_SegmentandThresholdImagesforchecking.py -P '/Users/jennahaines/Box Sync/Eisen_Lab/Experiments/DNAFish/OligoPaints/190114-Oligopaint3.2' \\\n",
    "-D '/Volumes/Imaging/Jenna/2019/2019-01-16/2019-09-05/' \\\n",
    "-R '190908-NormalizedIntensityGraphs_sample4'\n",
    "\n",
    "## took out numbers 4 because of uneven lighting .. this was because I forgot to turn overlap off\n",
    "\n",
    "\n",
    "python 190603_NormalizedIntensityGraphs.py -P '/Users/jennahaines/Box Sync/Eisen_Lab/Experiments/DNAFish/OligoPaints/190114-Oligopaint3.2' \\\n",
    "-D '/Volumes/Imaging/Jenna/2019/2019-01-16/2019-09-05/selectfiles/' \\\n",
    "-R '190908-NormalizedIntensityGraphs_sample4'\n",
    "\n",
    "## Only got to about 7 samples... I need to finish running on the rest later.. I need to rerun these anyway with some more output tables made."
   ]
  },
  {
   "cell_type": "markdown",
   "metadata": {},
   "source": [
    "## Sample 5\n"
   ]
  },
  {
   "cell_type": "code",
   "execution_count": null,
   "metadata": {
    "collapsed": true
   },
   "outputs": [],
   "source": [
    "python 190906_SegmentandThresholdImagesforchecking.py -P '/Users/jennahaines/Box Sync/Eisen_Lab/Experiments/DNAFish/OligoPaints/190114-Oligopaint3.2' \\\n",
    "-D '/Volumes/Imaging/Jenna/2019/2019-01-16/2019-09-06/' \\\n",
    "-R '190908-NormalizedIntensityGraphs_sample5' \n",
    "\n",
    "## Weird uneven lighting of 1,4,9,13 need to be taken out\n",
    "\n",
    "python 190603_NormalizedIntensityGraphs.py -P '/Users/jennahaines/Box Sync/Eisen_Lab/Experiments/DNAFish/OligoPaints/190114-Oligopaint3.2' \\\n",
    "-D '/Volumes/Imaging/Jenna/2019/2019-01-16/2019-09-06/selectfiles/' \\\n",
    "-R '190908-NormalizedIntensityGraphs_sample5'"
   ]
  },
  {
   "cell_type": "markdown",
   "metadata": {},
   "source": [
    "## 190909 -- rewrote to add in an output file that captures some of the stats reported on the terminal\n",
    "\n",
    "/Volumes/Imaging/Jenna/2019/2019-01-16/2019-09-06/Test"
   ]
  },
  {
   "cell_type": "code",
   "execution_count": null,
   "metadata": {
    "collapsed": true
   },
   "outputs": [],
   "source": [
    "python 190603_NormalizedIntensityGraphs.py -P '/Users/jennahaines/Box Sync/Eisen_Lab/Experiments/DNAFish/OligoPaints/190114-Oligopaint3.2' \\\n",
    "-D '/Volumes/Imaging/Jenna/2019/2019-01-16/2019-09-06/Test/' \\\n",
    "-R '190908-NormalizedIntensityGraphs_sample5-TEST'\n",
    "\n",
    "## That went well so now I can re-run some of the analysis I already did.\n",
    "\n",
    "##### Sample 5 #####\n",
    "\n",
    "python 190603_NormalizedIntensityGraphs.py -P '/Users/jennahaines/Box Sync/Eisen_Lab/Experiments/DNAFish/OligoPaints/190114-Oligopaint3.2' \\\n",
    "-D '/Volumes/Imaging/Jenna/2019/2019-01-16/2019-09-06/selectfiles/' \\\n",
    "-R '190908-NormalizedIntensityGraphs_sample5'\n",
    "\n",
    "##### Sample 4 #####\n",
    "\n",
    "python 190603_NormalizedIntensityGraphs.py -P '/Users/jennahaines/Box Sync/Eisen_Lab/Experiments/DNAFish/OligoPaints/190114-Oligopaint3.2' \\\n",
    "-D '/Volumes/Imaging/Jenna/2019/2019-01-16/2019-09-05/selectfiles/' \\\n",
    "-R '190908-NormalizedIntensityGraphs_sample4'\n",
    "\n",
    "##### Sample 3 #####\n",
    "\n",
    "python 190603_NormalizedIntensityGraphs.py -P '/Users/jennahaines/Box Sync/Eisen_Lab/Experiments/DNAFish/OligoPaints/190114-Oligopaint3.2' \\\n",
    "-D '/Volumes/Imaging/Jenna/2019/2019-01-16/2019-01-22/2019-01-22/selectfiles/' \\\n",
    "-R '190906-NormalizedIntensityGraphs_sample3'\n",
    "\n",
    "##### Sample 2 #####\n",
    "python 190603_NormalizedIntensityGraphs.py -P '/Users/jennahaines/Box Sync/Eisen_Lab/Experiments/DNAFish/OligoPaints/190114-Oligopaint3.2' \\\n",
    "-D '/Volumes/Imaging/Jenna/2019/2019-01-16/2019-01-18/selectfiles/' \\\n",
    "-R '190905-NormalizedIntensityGraphs_sample2'\n",
    "\n",
    "#### Sample 1 #####\n",
    "python 190603_NormalizedIntensityGraphs.py -P '/Users/jennahaines/Box Sync/Eisen_Lab/Experiments/DNAFish/OligoPaints/190114-Oligopaint3.2' \\\n",
    "-D '/Volumes/Imaging/Jenna/2019/2019-01-16/2019-01-17/selectfiles/' \\\n",
    "-R '190909-NormalizedIntensityGraphs_sample1'"
   ]
  }
 ],
 "metadata": {
  "kernelspec": {
   "display_name": "Python 3",
   "language": "python",
   "name": "python3"
  },
  "language_info": {
   "codemirror_mode": {
    "name": "ipython",
    "version": 3
   },
   "file_extension": ".py",
   "mimetype": "text/x-python",
   "name": "python",
   "nbconvert_exporter": "python",
   "pygments_lexer": "ipython3",
   "version": "3.6.8"
  }
 },
 "nbformat": 4,
 "nbformat_minor": 2
}
