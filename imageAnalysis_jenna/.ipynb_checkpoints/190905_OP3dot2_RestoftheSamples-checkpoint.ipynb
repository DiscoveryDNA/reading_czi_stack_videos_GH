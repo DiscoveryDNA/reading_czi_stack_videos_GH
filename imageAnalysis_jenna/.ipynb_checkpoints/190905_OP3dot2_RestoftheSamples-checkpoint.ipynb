{
 "cells": [
  {
   "cell_type": "markdown",
   "metadata": {},
   "source": [
    "# 190905_OP3dot2_restofthesamples\n",
    "\n",
    "\n",
    "So I ran code called 190603_NormalizedIntensityGraphs.py on just the good files for sample 1 (precell targets) of OP 3.2 earlier this year. I want to run on the rest of the samples that I imaged. I also should finish imaging the rest of the samples >< oops."
   ]
  },
  {
   "cell_type": "code",
   "execution_count": 2,
   "metadata": {},
   "outputs": [
    {
     "ename": "ModuleNotFoundError",
     "evalue": "No module named 'HelperFunctionsforImageProcessing'",
     "output_type": "error",
     "traceback": [
      "\u001b[0;31m---------------------------------------------------------------------------\u001b[0m",
      "\u001b[0;31mModuleNotFoundError\u001b[0m                       Traceback (most recent call last)",
      "\u001b[0;32m<ipython-input-2-c8e5fb0cb491>\u001b[0m in \u001b[0;36m<module>\u001b[0;34m\u001b[0m\n\u001b[1;32m     11\u001b[0m \u001b[0;32mimport\u001b[0m \u001b[0mpickle\u001b[0m\u001b[0;34m\u001b[0m\u001b[0;34m\u001b[0m\u001b[0m\n\u001b[1;32m     12\u001b[0m \u001b[0;32mimport\u001b[0m \u001b[0mpandas\u001b[0m \u001b[0;32mas\u001b[0m \u001b[0mpd\u001b[0m\u001b[0;34m\u001b[0m\u001b[0;34m\u001b[0m\u001b[0m\n\u001b[0;32m---> 13\u001b[0;31m \u001b[0;32mfrom\u001b[0m \u001b[0mHelperFunctionsforImageProcessing\u001b[0m \u001b[0;32mimport\u001b[0m \u001b[0mNucleiSegmentation_MIP_Dapi_Lamina\u001b[0m\u001b[0;34m,\u001b[0m \u001b[0mCZIMetadatatoDictionaries\u001b[0m\u001b[0;34m,\u001b[0m \u001b[0mCellEdgeMask\u001b[0m\u001b[0;34m,\u001b[0m \u001b[0mThreshold_DNASpots_triangle\u001b[0m\u001b[0;34m,\u001b[0m \u001b[0mBetter_Threshold_DNASpots_triangle\u001b[0m\u001b[0;34m\u001b[0m\u001b[0;34m\u001b[0m\u001b[0m\n\u001b[0m\u001b[1;32m     14\u001b[0m \u001b[0;34m\u001b[0m\u001b[0m\n\u001b[1;32m     15\u001b[0m \u001b[0;34m\u001b[0m\u001b[0m\n",
      "\u001b[0;31mModuleNotFoundError\u001b[0m: No module named 'HelperFunctionsforImageProcessing'"
     ]
    }
   ],
   "source": [
    "import czifile\n",
    "import matplotlib.pyplot as plt\n",
    "from scipy import ndimage as ndi\n",
    "from skimage import filters, measure, segmentation, feature, img_as_ubyte, morphology\n",
    "import numpy as np\n",
    "%matplotlib inline \n",
    "import os\n",
    "from os import listdir\n",
    "from math import sqrt\n",
    "import seaborn as sea\n",
    "import pickle\n",
    "import pandas as pd\n",
    "from HelperFunctionsforImageProcessing import NucleiSegmentation_MIP_Dapi_Lamina, CZIMetadatatoDictionaries, CellEdgeMask, Threshold_DNASpots_triangle, Better_Threshold_DNASpots_triangle\n",
    "\n",
    "\n",
    "ProjectDirectory = ('/Users/jennahaines/Box Sync/Eisen_Lab/Experiments/DNAFish/OligoPaints/190114-Oligopaint3.2')\n",
    "ProjectBin = (ProjectDirectory + '/bin')\n",
    "NotebookResultsPath = (ProjectDirectory + '/results/190905-NormalizedIntensityGraphs_sample2')\n",
    "ProjectData = ('/Volumes/Imaging/Jenna/2019/2019-01-16/2019-01-18/')\n",
    "os.chdir(NotebookResultsPath)\n"
   ]
  },
  {
   "cell_type": "markdown",
   "metadata": {},
   "source": [
    "## Sample 2\n",
    "\n",
    "\n",
    "First thing I want to do is segment and save nuclei and dots for each of the images to get rid of any images that aren't good (are out of focus, have strange illumination issues, nuclei migration)"
   ]
  },
  {
   "cell_type": "code",
   "execution_count": 2,
   "metadata": {
    "collapsed": true
   },
   "outputs": [],
   "source": [
    "target_files = ['190114-oligopaint3.2-02-050809-Scene-01-M8-P1.czi',\n",
    "'190114-oligopaint3.2-02-050809-Scene-02-M8-P2.czi',\n",
    "'190114-oligopaint3.2-02-050809-Scene-03-M8-P3.czi',\n",
    "'190114-oligopaint3.2-02-050809-Scene-04-M8-P4.czi',\n",
    "'190114-oligopaint3.2-02-050809-Scene-05-M8-P5.czi',\n",
    "'190114-oligopaint3.2-02-050809-Scene-06-M8-P6.czi',\n",
    "'190114-oligopaint3.2-02-050809-Scene-07-M8-P7.czi',\n",
    "'190114-oligopaint3.2-02-050809-Scene-08-M8-P8.czi',\n",
    "'190114-oligopaint3.2-02-050809-Scene-09-M9-P1.czi',\n",
    "'190114-oligopaint3.2-02-050809-Scene-10-M9-P2.czi',\n",
    "'190114-oligopaint3.2-02-050809-Scene-11-M9-P3.czi',\n",
    "'190114-oligopaint3.2-02-050809-Scene-12-M9-P4.czi',\n",
    "'190114-oligopaint3.2-02-050809-Scene-13-M9-P5.czi',\n",
    "'190114-oligopaint3.2-02-050809-Scene-14-M9-P6.czi',\n",
    "'190114-oligopaint3.2-02-050809-Scene-15-M9-P7.czi',\n",
    "'190114-oligopaint3.2-02-050809-Scene-16-M9-P8.czi']"
   ]
  },
  {
   "cell_type": "code",
   "execution_count": 4,
   "metadata": {},
   "outputs": [
    {
     "name": "stderr",
     "output_type": "stream",
     "text": [
      "/Users/jennahaines/anaconda2/envs/py3k/lib/python3.6/site-packages/skimage/util/dtype.py:130: UserWarning: Possible precision loss when converting from uint16 to uint8\n",
      "  .format(dtypeobj_in, dtypeobj_out))\n"
     ]
    },
    {
     "name": "stdout",
     "output_type": "stream",
     "text": [
      "Printed PDF of segmentation results for  190114-oligopaint3.2-02-050809-Scene-01-M8-P1.czi\n",
      "segmented  109 cells in  190114-oligopaint3.2-02-050809-Scene-01-M8-P1.czi .\n"
     ]
    },
    {
     "name": "stderr",
     "output_type": "stream",
     "text": [
      "/Users/jennahaines/anaconda2/envs/py3k/lib/python3.6/site-packages/skimage/util/dtype.py:130: UserWarning: Possible precision loss when converting from uint16 to uint8\n",
      "  .format(dtypeobj_in, dtypeobj_out))\n",
      "/Users/jennahaines/anaconda2/envs/py3k/lib/python3.6/site-packages/skimage/util/dtype.py:130: UserWarning: Possible precision loss when converting from uint16 to uint8\n",
      "  .format(dtypeobj_in, dtypeobj_out))\n"
     ]
    },
    {
     "name": "stdout",
     "output_type": "stream",
     "text": [
      "Triangle Thresholded Images complete for  190114-oligopaint3.2-02-050809-Scene-01-M8-P1.czi\n",
      "Found  3894  spots in the 647 channel.\n",
      "Found  3907  spots in the 546 channel.\n"
     ]
    },
    {
     "name": "stderr",
     "output_type": "stream",
     "text": [
      "/Users/jennahaines/anaconda2/envs/py3k/lib/python3.6/site-packages/skimage/util/dtype.py:130: UserWarning: Possible precision loss when converting from uint16 to uint8\n",
      "  .format(dtypeobj_in, dtypeobj_out))\n"
     ]
    },
    {
     "name": "stdout",
     "output_type": "stream",
     "text": [
      "Printed PDF of segmentation results for  190114-oligopaint3.2-02-050809-Scene-02-M8-P2.czi\n",
      "segmented  36 cells in  190114-oligopaint3.2-02-050809-Scene-02-M8-P2.czi .\n"
     ]
    },
    {
     "name": "stderr",
     "output_type": "stream",
     "text": [
      "/Users/jennahaines/anaconda2/envs/py3k/lib/python3.6/site-packages/skimage/util/dtype.py:130: UserWarning: Possible precision loss when converting from uint16 to uint8\n",
      "  .format(dtypeobj_in, dtypeobj_out))\n",
      "/Users/jennahaines/anaconda2/envs/py3k/lib/python3.6/site-packages/skimage/util/dtype.py:130: UserWarning: Possible precision loss when converting from uint16 to uint8\n",
      "  .format(dtypeobj_in, dtypeobj_out))\n"
     ]
    },
    {
     "name": "stdout",
     "output_type": "stream",
     "text": [
      "Triangle Thresholded Images complete for  190114-oligopaint3.2-02-050809-Scene-02-M8-P2.czi\n",
      "Found  20872  spots in the 647 channel.\n",
      "Found  2621  spots in the 546 channel.\n"
     ]
    },
    {
     "name": "stderr",
     "output_type": "stream",
     "text": [
      "/Users/jennahaines/anaconda2/envs/py3k/lib/python3.6/site-packages/skimage/util/dtype.py:130: UserWarning: Possible precision loss when converting from uint16 to uint8\n",
      "  .format(dtypeobj_in, dtypeobj_out))\n"
     ]
    },
    {
     "name": "stdout",
     "output_type": "stream",
     "text": [
      "Printed PDF of segmentation results for  190114-oligopaint3.2-02-050809-Scene-03-M8-P3.czi\n",
      "segmented  120 cells in  190114-oligopaint3.2-02-050809-Scene-03-M8-P3.czi .\n"
     ]
    },
    {
     "name": "stderr",
     "output_type": "stream",
     "text": [
      "/Users/jennahaines/anaconda2/envs/py3k/lib/python3.6/site-packages/skimage/util/dtype.py:130: UserWarning: Possible precision loss when converting from uint16 to uint8\n",
      "  .format(dtypeobj_in, dtypeobj_out))\n",
      "/Users/jennahaines/anaconda2/envs/py3k/lib/python3.6/site-packages/skimage/util/dtype.py:130: UserWarning: Possible precision loss when converting from uint16 to uint8\n",
      "  .format(dtypeobj_in, dtypeobj_out))\n"
     ]
    },
    {
     "name": "stdout",
     "output_type": "stream",
     "text": [
      "Triangle Thresholded Images complete for  190114-oligopaint3.2-02-050809-Scene-03-M8-P3.czi\n",
      "Found  5153  spots in the 647 channel.\n",
      "Found  4152  spots in the 546 channel.\n"
     ]
    },
    {
     "name": "stderr",
     "output_type": "stream",
     "text": [
      "/Users/jennahaines/anaconda2/envs/py3k/lib/python3.6/site-packages/skimage/util/dtype.py:130: UserWarning: Possible precision loss when converting from uint16 to uint8\n",
      "  .format(dtypeobj_in, dtypeobj_out))\n"
     ]
    },
    {
     "name": "stdout",
     "output_type": "stream",
     "text": [
      "Printed PDF of segmentation results for  190114-oligopaint3.2-02-050809-Scene-04-M8-P4.czi\n",
      "segmented  97 cells in  190114-oligopaint3.2-02-050809-Scene-04-M8-P4.czi .\n"
     ]
    },
    {
     "name": "stderr",
     "output_type": "stream",
     "text": [
      "/Users/jennahaines/anaconda2/envs/py3k/lib/python3.6/site-packages/skimage/util/dtype.py:130: UserWarning: Possible precision loss when converting from uint16 to uint8\n",
      "  .format(dtypeobj_in, dtypeobj_out))\n",
      "/Users/jennahaines/anaconda2/envs/py3k/lib/python3.6/site-packages/skimage/util/dtype.py:130: UserWarning: Possible precision loss when converting from uint16 to uint8\n",
      "  .format(dtypeobj_in, dtypeobj_out))\n"
     ]
    },
    {
     "name": "stdout",
     "output_type": "stream",
     "text": [
      "Triangle Thresholded Images complete for  190114-oligopaint3.2-02-050809-Scene-04-M8-P4.czi\n",
      "Found  4269  spots in the 647 channel.\n",
      "Found  3240  spots in the 546 channel.\n"
     ]
    },
    {
     "name": "stderr",
     "output_type": "stream",
     "text": [
      "/Users/jennahaines/anaconda2/envs/py3k/lib/python3.6/site-packages/skimage/util/dtype.py:130: UserWarning: Possible precision loss when converting from uint16 to uint8\n",
      "  .format(dtypeobj_in, dtypeobj_out))\n"
     ]
    },
    {
     "name": "stdout",
     "output_type": "stream",
     "text": [
      "Printed PDF of segmentation results for  190114-oligopaint3.2-02-050809-Scene-05-M8-P5.czi\n",
      "segmented  125 cells in  190114-oligopaint3.2-02-050809-Scene-05-M8-P5.czi .\n"
     ]
    },
    {
     "name": "stderr",
     "output_type": "stream",
     "text": [
      "/Users/jennahaines/anaconda2/envs/py3k/lib/python3.6/site-packages/skimage/util/dtype.py:130: UserWarning: Possible precision loss when converting from uint16 to uint8\n",
      "  .format(dtypeobj_in, dtypeobj_out))\n",
      "/Users/jennahaines/anaconda2/envs/py3k/lib/python3.6/site-packages/skimage/util/dtype.py:130: UserWarning: Possible precision loss when converting from uint16 to uint8\n",
      "  .format(dtypeobj_in, dtypeobj_out))\n"
     ]
    },
    {
     "name": "stdout",
     "output_type": "stream",
     "text": [
      "Triangle Thresholded Images complete for  190114-oligopaint3.2-02-050809-Scene-05-M8-P5.czi\n",
      "Found  5209  spots in the 647 channel.\n",
      "Found  2898  spots in the 546 channel.\n"
     ]
    },
    {
     "name": "stderr",
     "output_type": "stream",
     "text": [
      "/Users/jennahaines/anaconda2/envs/py3k/lib/python3.6/site-packages/skimage/util/dtype.py:130: UserWarning: Possible precision loss when converting from uint16 to uint8\n",
      "  .format(dtypeobj_in, dtypeobj_out))\n"
     ]
    },
    {
     "name": "stdout",
     "output_type": "stream",
     "text": [
      "Printed PDF of segmentation results for  190114-oligopaint3.2-02-050809-Scene-06-M8-P6.czi\n",
      "segmented  116 cells in  190114-oligopaint3.2-02-050809-Scene-06-M8-P6.czi .\n"
     ]
    },
    {
     "name": "stderr",
     "output_type": "stream",
     "text": [
      "/Users/jennahaines/anaconda2/envs/py3k/lib/python3.6/site-packages/skimage/util/dtype.py:130: UserWarning: Possible precision loss when converting from uint16 to uint8\n",
      "  .format(dtypeobj_in, dtypeobj_out))\n",
      "/Users/jennahaines/anaconda2/envs/py3k/lib/python3.6/site-packages/skimage/util/dtype.py:130: UserWarning: Possible precision loss when converting from uint16 to uint8\n",
      "  .format(dtypeobj_in, dtypeobj_out))\n"
     ]
    },
    {
     "name": "stdout",
     "output_type": "stream",
     "text": [
      "Triangle Thresholded Images complete for  190114-oligopaint3.2-02-050809-Scene-06-M8-P6.czi\n",
      "Found  4666  spots in the 647 channel.\n",
      "Found  4009  spots in the 546 channel.\n"
     ]
    },
    {
     "name": "stderr",
     "output_type": "stream",
     "text": [
      "/Users/jennahaines/anaconda2/envs/py3k/lib/python3.6/site-packages/skimage/util/dtype.py:130: UserWarning: Possible precision loss when converting from uint16 to uint8\n",
      "  .format(dtypeobj_in, dtypeobj_out))\n"
     ]
    },
    {
     "name": "stdout",
     "output_type": "stream",
     "text": [
      "Printed PDF of segmentation results for  190114-oligopaint3.2-02-050809-Scene-07-M8-P7.czi\n",
      "segmented  130 cells in  190114-oligopaint3.2-02-050809-Scene-07-M8-P7.czi .\n"
     ]
    },
    {
     "name": "stderr",
     "output_type": "stream",
     "text": [
      "/Users/jennahaines/anaconda2/envs/py3k/lib/python3.6/site-packages/skimage/util/dtype.py:130: UserWarning: Possible precision loss when converting from uint16 to uint8\n",
      "  .format(dtypeobj_in, dtypeobj_out))\n",
      "/Users/jennahaines/anaconda2/envs/py3k/lib/python3.6/site-packages/skimage/util/dtype.py:130: UserWarning: Possible precision loss when converting from uint16 to uint8\n",
      "  .format(dtypeobj_in, dtypeobj_out))\n"
     ]
    },
    {
     "name": "stdout",
     "output_type": "stream",
     "text": [
      "Triangle Thresholded Images complete for  190114-oligopaint3.2-02-050809-Scene-07-M8-P7.czi\n",
      "Found  4190  spots in the 647 channel.\n",
      "Found  2964  spots in the 546 channel.\n"
     ]
    },
    {
     "name": "stderr",
     "output_type": "stream",
     "text": [
      "/Users/jennahaines/anaconda2/envs/py3k/lib/python3.6/site-packages/skimage/util/dtype.py:130: UserWarning: Possible precision loss when converting from uint16 to uint8\n",
      "  .format(dtypeobj_in, dtypeobj_out))\n"
     ]
    },
    {
     "name": "stdout",
     "output_type": "stream",
     "text": [
      "Printed PDF of segmentation results for  190114-oligopaint3.2-02-050809-Scene-08-M8-P8.czi\n",
      "segmented  140 cells in  190114-oligopaint3.2-02-050809-Scene-08-M8-P8.czi .\n"
     ]
    },
    {
     "name": "stderr",
     "output_type": "stream",
     "text": [
      "/Users/jennahaines/anaconda2/envs/py3k/lib/python3.6/site-packages/skimage/util/dtype.py:130: UserWarning: Possible precision loss when converting from uint16 to uint8\n",
      "  .format(dtypeobj_in, dtypeobj_out))\n",
      "/Users/jennahaines/anaconda2/envs/py3k/lib/python3.6/site-packages/skimage/util/dtype.py:130: UserWarning: Possible precision loss when converting from uint16 to uint8\n",
      "  .format(dtypeobj_in, dtypeobj_out))\n"
     ]
    },
    {
     "name": "stdout",
     "output_type": "stream",
     "text": [
      "Triangle Thresholded Images complete for  190114-oligopaint3.2-02-050809-Scene-08-M8-P8.czi\n",
      "Found  4857  spots in the 647 channel.\n",
      "Found  3530  spots in the 546 channel.\n"
     ]
    },
    {
     "name": "stderr",
     "output_type": "stream",
     "text": [
      "/Users/jennahaines/anaconda2/envs/py3k/lib/python3.6/site-packages/skimage/util/dtype.py:130: UserWarning: Possible precision loss when converting from uint16 to uint8\n",
      "  .format(dtypeobj_in, dtypeobj_out))\n"
     ]
    },
    {
     "name": "stdout",
     "output_type": "stream",
     "text": [
      "Printed PDF of segmentation results for  190114-oligopaint3.2-02-050809-Scene-09-M9-P1.czi\n",
      "segmented  128 cells in  190114-oligopaint3.2-02-050809-Scene-09-M9-P1.czi .\n"
     ]
    },
    {
     "name": "stderr",
     "output_type": "stream",
     "text": [
      "/Users/jennahaines/anaconda2/envs/py3k/lib/python3.6/site-packages/skimage/util/dtype.py:130: UserWarning: Possible precision loss when converting from uint16 to uint8\n",
      "  .format(dtypeobj_in, dtypeobj_out))\n",
      "/Users/jennahaines/anaconda2/envs/py3k/lib/python3.6/site-packages/skimage/util/dtype.py:130: UserWarning: Possible precision loss when converting from uint16 to uint8\n",
      "  .format(dtypeobj_in, dtypeobj_out))\n"
     ]
    },
    {
     "name": "stdout",
     "output_type": "stream",
     "text": [
      "Triangle Thresholded Images complete for  190114-oligopaint3.2-02-050809-Scene-09-M9-P1.czi\n",
      "Found  2296  spots in the 647 channel.\n",
      "Found  1844  spots in the 546 channel.\n"
     ]
    },
    {
     "name": "stderr",
     "output_type": "stream",
     "text": [
      "/Users/jennahaines/anaconda2/envs/py3k/lib/python3.6/site-packages/skimage/util/dtype.py:130: UserWarning: Possible precision loss when converting from uint16 to uint8\n",
      "  .format(dtypeobj_in, dtypeobj_out))\n"
     ]
    },
    {
     "name": "stdout",
     "output_type": "stream",
     "text": [
      "Printed PDF of segmentation results for  190114-oligopaint3.2-02-050809-Scene-10-M9-P2.czi\n",
      "segmented  37 cells in  190114-oligopaint3.2-02-050809-Scene-10-M9-P2.czi .\n"
     ]
    },
    {
     "name": "stderr",
     "output_type": "stream",
     "text": [
      "/Users/jennahaines/anaconda2/envs/py3k/lib/python3.6/site-packages/skimage/util/dtype.py:130: UserWarning: Possible precision loss when converting from uint16 to uint8\n",
      "  .format(dtypeobj_in, dtypeobj_out))\n",
      "/Users/jennahaines/anaconda2/envs/py3k/lib/python3.6/site-packages/skimage/util/dtype.py:130: UserWarning: Possible precision loss when converting from uint16 to uint8\n",
      "  .format(dtypeobj_in, dtypeobj_out))\n"
     ]
    },
    {
     "name": "stdout",
     "output_type": "stream",
     "text": [
      "Triangle Thresholded Images complete for  190114-oligopaint3.2-02-050809-Scene-10-M9-P2.czi\n",
      "Found  2012  spots in the 647 channel.\n",
      "Found  1526  spots in the 546 channel.\n"
     ]
    },
    {
     "name": "stderr",
     "output_type": "stream",
     "text": [
      "/Users/jennahaines/anaconda2/envs/py3k/lib/python3.6/site-packages/skimage/util/dtype.py:130: UserWarning: Possible precision loss when converting from uint16 to uint8\n",
      "  .format(dtypeobj_in, dtypeobj_out))\n"
     ]
    },
    {
     "name": "stdout",
     "output_type": "stream",
     "text": [
      "Printed PDF of segmentation results for  190114-oligopaint3.2-02-050809-Scene-11-M9-P3.czi\n",
      "segmented  146 cells in  190114-oligopaint3.2-02-050809-Scene-11-M9-P3.czi .\n"
     ]
    },
    {
     "name": "stderr",
     "output_type": "stream",
     "text": [
      "/Users/jennahaines/anaconda2/envs/py3k/lib/python3.6/site-packages/skimage/util/dtype.py:130: UserWarning: Possible precision loss when converting from uint16 to uint8\n",
      "  .format(dtypeobj_in, dtypeobj_out))\n",
      "/Users/jennahaines/anaconda2/envs/py3k/lib/python3.6/site-packages/skimage/util/dtype.py:130: UserWarning: Possible precision loss when converting from uint16 to uint8\n",
      "  .format(dtypeobj_in, dtypeobj_out))\n"
     ]
    },
    {
     "name": "stdout",
     "output_type": "stream",
     "text": [
      "Triangle Thresholded Images complete for  190114-oligopaint3.2-02-050809-Scene-11-M9-P3.czi\n",
      "Found  2416  spots in the 647 channel.\n",
      "Found  2192  spots in the 546 channel.\n"
     ]
    },
    {
     "name": "stderr",
     "output_type": "stream",
     "text": [
      "/Users/jennahaines/anaconda2/envs/py3k/lib/python3.6/site-packages/skimage/util/dtype.py:130: UserWarning: Possible precision loss when converting from uint16 to uint8\n",
      "  .format(dtypeobj_in, dtypeobj_out))\n"
     ]
    },
    {
     "name": "stdout",
     "output_type": "stream",
     "text": [
      "Printed PDF of segmentation results for  190114-oligopaint3.2-02-050809-Scene-12-M9-P4.czi\n",
      "segmented  131 cells in  190114-oligopaint3.2-02-050809-Scene-12-M9-P4.czi .\n"
     ]
    },
    {
     "name": "stderr",
     "output_type": "stream",
     "text": [
      "/Users/jennahaines/anaconda2/envs/py3k/lib/python3.6/site-packages/skimage/util/dtype.py:130: UserWarning: Possible precision loss when converting from uint16 to uint8\n",
      "  .format(dtypeobj_in, dtypeobj_out))\n",
      "/Users/jennahaines/anaconda2/envs/py3k/lib/python3.6/site-packages/skimage/util/dtype.py:130: UserWarning: Possible precision loss when converting from uint16 to uint8\n",
      "  .format(dtypeobj_in, dtypeobj_out))\n"
     ]
    },
    {
     "name": "stdout",
     "output_type": "stream",
     "text": [
      "Triangle Thresholded Images complete for  190114-oligopaint3.2-02-050809-Scene-12-M9-P4.czi\n",
      "Found  2268  spots in the 647 channel.\n",
      "Found  2285  spots in the 546 channel.\n"
     ]
    },
    {
     "name": "stderr",
     "output_type": "stream",
     "text": [
      "/Users/jennahaines/anaconda2/envs/py3k/lib/python3.6/site-packages/skimage/util/dtype.py:130: UserWarning: Possible precision loss when converting from uint16 to uint8\n",
      "  .format(dtypeobj_in, dtypeobj_out))\n"
     ]
    },
    {
     "name": "stdout",
     "output_type": "stream",
     "text": [
      "Printed PDF of segmentation results for  190114-oligopaint3.2-02-050809-Scene-13-M9-P5.czi\n",
      "segmented  168 cells in  190114-oligopaint3.2-02-050809-Scene-13-M9-P5.czi .\n"
     ]
    },
    {
     "name": "stderr",
     "output_type": "stream",
     "text": [
      "/Users/jennahaines/anaconda2/envs/py3k/lib/python3.6/site-packages/skimage/util/dtype.py:130: UserWarning: Possible precision loss when converting from uint16 to uint8\n",
      "  .format(dtypeobj_in, dtypeobj_out))\n",
      "/Users/jennahaines/anaconda2/envs/py3k/lib/python3.6/site-packages/skimage/util/dtype.py:130: UserWarning: Possible precision loss when converting from uint16 to uint8\n",
      "  .format(dtypeobj_in, dtypeobj_out))\n"
     ]
    },
    {
     "name": "stdout",
     "output_type": "stream",
     "text": [
      "Triangle Thresholded Images complete for  190114-oligopaint3.2-02-050809-Scene-13-M9-P5.czi\n",
      "Found  2579  spots in the 647 channel.\n",
      "Found  2362  spots in the 546 channel.\n"
     ]
    },
    {
     "name": "stderr",
     "output_type": "stream",
     "text": [
      "/Users/jennahaines/anaconda2/envs/py3k/lib/python3.6/site-packages/skimage/util/dtype.py:130: UserWarning: Possible precision loss when converting from uint16 to uint8\n",
      "  .format(dtypeobj_in, dtypeobj_out))\n"
     ]
    },
    {
     "name": "stdout",
     "output_type": "stream",
     "text": [
      "Printed PDF of segmentation results for  190114-oligopaint3.2-02-050809-Scene-14-M9-P6.czi\n",
      "segmented  149 cells in  190114-oligopaint3.2-02-050809-Scene-14-M9-P6.czi .\n"
     ]
    },
    {
     "name": "stderr",
     "output_type": "stream",
     "text": [
      "/Users/jennahaines/anaconda2/envs/py3k/lib/python3.6/site-packages/skimage/util/dtype.py:130: UserWarning: Possible precision loss when converting from uint16 to uint8\n",
      "  .format(dtypeobj_in, dtypeobj_out))\n",
      "/Users/jennahaines/anaconda2/envs/py3k/lib/python3.6/site-packages/skimage/util/dtype.py:130: UserWarning: Possible precision loss when converting from uint16 to uint8\n",
      "  .format(dtypeobj_in, dtypeobj_out))\n"
     ]
    },
    {
     "name": "stdout",
     "output_type": "stream",
     "text": [
      "Triangle Thresholded Images complete for  190114-oligopaint3.2-02-050809-Scene-14-M9-P6.czi\n",
      "Found  2574  spots in the 647 channel.\n",
      "Found  2189  spots in the 546 channel.\n"
     ]
    },
    {
     "name": "stderr",
     "output_type": "stream",
     "text": [
      "/Users/jennahaines/anaconda2/envs/py3k/lib/python3.6/site-packages/skimage/util/dtype.py:130: UserWarning: Possible precision loss when converting from uint16 to uint8\n",
      "  .format(dtypeobj_in, dtypeobj_out))\n"
     ]
    },
    {
     "name": "stdout",
     "output_type": "stream",
     "text": [
      "Printed PDF of segmentation results for  190114-oligopaint3.2-02-050809-Scene-15-M9-P7.czi\n",
      "segmented  57 cells in  190114-oligopaint3.2-02-050809-Scene-15-M9-P7.czi .\n"
     ]
    },
    {
     "name": "stderr",
     "output_type": "stream",
     "text": [
      "/Users/jennahaines/anaconda2/envs/py3k/lib/python3.6/site-packages/skimage/util/dtype.py:130: UserWarning: Possible precision loss when converting from uint16 to uint8\n",
      "  .format(dtypeobj_in, dtypeobj_out))\n",
      "/Users/jennahaines/anaconda2/envs/py3k/lib/python3.6/site-packages/skimage/util/dtype.py:130: UserWarning: Possible precision loss when converting from uint16 to uint8\n",
      "  .format(dtypeobj_in, dtypeobj_out))\n"
     ]
    },
    {
     "name": "stdout",
     "output_type": "stream",
     "text": [
      "Triangle Thresholded Images complete for  190114-oligopaint3.2-02-050809-Scene-15-M9-P7.czi\n",
      "Found  2018  spots in the 647 channel.\n",
      "Found  1374  spots in the 546 channel.\n"
     ]
    },
    {
     "name": "stderr",
     "output_type": "stream",
     "text": [
      "/Users/jennahaines/anaconda2/envs/py3k/lib/python3.6/site-packages/skimage/util/dtype.py:130: UserWarning: Possible precision loss when converting from uint16 to uint8\n",
      "  .format(dtypeobj_in, dtypeobj_out))\n"
     ]
    },
    {
     "name": "stdout",
     "output_type": "stream",
     "text": [
      "Printed PDF of segmentation results for  190114-oligopaint3.2-02-050809-Scene-16-M9-P8.czi\n",
      "segmented  146 cells in  190114-oligopaint3.2-02-050809-Scene-16-M9-P8.czi .\n"
     ]
    },
    {
     "name": "stderr",
     "output_type": "stream",
     "text": [
      "/Users/jennahaines/anaconda2/envs/py3k/lib/python3.6/site-packages/skimage/util/dtype.py:130: UserWarning: Possible precision loss when converting from uint16 to uint8\n",
      "  .format(dtypeobj_in, dtypeobj_out))\n",
      "/Users/jennahaines/anaconda2/envs/py3k/lib/python3.6/site-packages/skimage/util/dtype.py:130: UserWarning: Possible precision loss when converting from uint16 to uint8\n",
      "  .format(dtypeobj_in, dtypeobj_out))\n"
     ]
    },
    {
     "name": "stdout",
     "output_type": "stream",
     "text": [
      "Triangle Thresholded Images complete for  190114-oligopaint3.2-02-050809-Scene-16-M9-P8.czi\n",
      "Found  2542  spots in the 647 channel.\n",
      "Found  2036  spots in the 546 channel.\n"
     ]
    },
    {
     "data": {
      "text/plain": [
       "<Figure size 432x288 with 0 Axes>"
      ]
     },
     "metadata": {},
     "output_type": "display_data"
    },
    {
     "data": {
      "text/plain": [
       "<Figure size 432x288 with 0 Axes>"
      ]
     },
     "metadata": {},
     "output_type": "display_data"
    },
    {
     "data": {
      "text/plain": [
       "<Figure size 432x288 with 0 Axes>"
      ]
     },
     "metadata": {},
     "output_type": "display_data"
    },
    {
     "data": {
      "text/plain": [
       "<Figure size 432x288 with 0 Axes>"
      ]
     },
     "metadata": {},
     "output_type": "display_data"
    },
    {
     "data": {
      "text/plain": [
       "<Figure size 432x288 with 0 Axes>"
      ]
     },
     "metadata": {},
     "output_type": "display_data"
    },
    {
     "data": {
      "text/plain": [
       "<Figure size 432x288 with 0 Axes>"
      ]
     },
     "metadata": {},
     "output_type": "display_data"
    },
    {
     "data": {
      "text/plain": [
       "<Figure size 432x288 with 0 Axes>"
      ]
     },
     "metadata": {},
     "output_type": "display_data"
    },
    {
     "data": {
      "text/plain": [
       "<Figure size 432x288 with 0 Axes>"
      ]
     },
     "metadata": {},
     "output_type": "display_data"
    },
    {
     "data": {
      "text/plain": [
       "<Figure size 432x288 with 0 Axes>"
      ]
     },
     "metadata": {},
     "output_type": "display_data"
    },
    {
     "data": {
      "text/plain": [
       "<Figure size 432x288 with 0 Axes>"
      ]
     },
     "metadata": {},
     "output_type": "display_data"
    },
    {
     "data": {
      "text/plain": [
       "<Figure size 432x288 with 0 Axes>"
      ]
     },
     "metadata": {},
     "output_type": "display_data"
    },
    {
     "data": {
      "text/plain": [
       "<Figure size 432x288 with 0 Axes>"
      ]
     },
     "metadata": {},
     "output_type": "display_data"
    },
    {
     "data": {
      "text/plain": [
       "<Figure size 432x288 with 0 Axes>"
      ]
     },
     "metadata": {},
     "output_type": "display_data"
    },
    {
     "data": {
      "text/plain": [
       "<Figure size 432x288 with 0 Axes>"
      ]
     },
     "metadata": {},
     "output_type": "display_data"
    },
    {
     "data": {
      "text/plain": [
       "<Figure size 432x288 with 0 Axes>"
      ]
     },
     "metadata": {},
     "output_type": "display_data"
    },
    {
     "data": {
      "text/plain": [
       "<Figure size 432x288 with 0 Axes>"
      ]
     },
     "metadata": {},
     "output_type": "display_data"
    }
   ],
   "source": [
    "for CziName in target_files:\n",
    "\n",
    "    #Function that takes the CZI file and splits it up into stacks based on the metadata\n",
    "    AF405Stack, AF488Stack, AF647Stack, AF546Stack = CZIMetadatatoDictionaries(ProjectData, CziName) \n",
    "    \n",
    "    ############ Threshold nuclei based on 405 - lamina and 488 - Protein ############  \n",
    "    Watershed_ClearBorders = NucleiSegmentation_MIP_Dapi_Lamina(CziName, AF405Stack)\n",
    "    \n",
    "    ############ Threshold nuclei based on 405 - lamina and 488 - Protein ############ \n",
    "    Threshold_DNASpots_triangle(CziName, AF647Stack, AF546Stack, Watershed_ClearBorders)"
   ]
  },
  {
   "cell_type": "code",
   "execution_count": null,
   "metadata": {
    "collapsed": true
   },
   "outputs": [],
   "source": [
    "## These are the files I'm keeping --> didn't discard\n",
    "target_files = ['190114-oligopaint3.2-02-050809-Scene-01-M8-P1.czi',\n",
    "'190114-oligopaint3.2-02-050809-Scene-03-M8-P3.czi',\n",
    "'190114-oligopaint3.2-02-050809-Scene-04-M8-P4.czi',\n",
    "'190114-oligopaint3.2-02-050809-Scene-05-M8-P5.czi',\n",
    "'190114-oligopaint3.2-02-050809-Scene-06-M8-P6.czi',\n",
    "'190114-oligopaint3.2-02-050809-Scene-08-M8-P8.czi',\n",
    "'190114-oligopaint3.2-02-050809-Scene-09-M9-P1.czi',\n",
    "'190114-oligopaint3.2-02-050809-Scene-11-M9-P3.czi',\n",
    "'190114-oligopaint3.2-02-050809-Scene-12-M9-P4.czi',\n",
    "'190114-oligopaint3.2-02-050809-Scene-13-M9-P5.czi',\n",
    "'190114-oligopaint3.2-02-050809-Scene-14-M9-P6.czi',\n",
    "'190114-oligopaint3.2-02-050809-Scene-16-M9-P8.czi']\n",
    "\n",
    "### this is the old command that I used for the first round of files on 190603\n",
    "python 190603_NormalizedIntensityGraphs.py -P '/Users/jennahaines/Box Sync/Eisen_Lab/Experiments/DNAFish/OligoPaints/190114-Oligopaint3.2' \\\n",
    "-D '/Volumes/Imaging/Jenna/2019/2019-01-16/2019-01-17/selectfiles/' \\\n",
    "-R '190603-NormalizedIntensityGraphs_pythonscript'\n",
    "\n",
    "### this is the new command that I used for the second round of files 190505\n",
    "python 190603_NormalizedIntensityGraphs.py -P '/Users/jennahaines/Box Sync/Eisen_Lab/Experiments/DNAFish/OligoPaints/190114-Oligopaint3.2' \\\n",
    "-D '/Volumes/Imaging/Jenna/2019/2019-01-16/2019-01-18/selectfiles/' \\\n",
    "-R '190905-NormalizedIntensityGraphs_sample2'"
   ]
  },
  {
   "cell_type": "markdown",
   "metadata": {
    "collapsed": true
   },
   "source": [
    "## Sample 3 "
   ]
  },
  {
   "cell_type": "code",
   "execution_count": 8,
   "metadata": {
    "collapsed": true
   },
   "outputs": [],
   "source": [
    "ProjectDirectory = ('/Users/jennahaines/Box Sync/Eisen_Lab/Experiments/DNAFish/OligoPaints/190114-Oligopaint3.2')\n",
    "ProjectBin = (ProjectDirectory + '/bin')\n",
    "NotebookResultsPath = (ProjectDirectory + '/results/190906-NormalizedIntensityGraphs_sample3')\n",
    "ProjectData = ('/Volumes/Imaging/Jenna/2019/2019-01-16/2019-01-22/2019-01-22/')\n",
    "os.chdir(NotebookResultsPath)\n",
    "\n",
    "target_files = ['190114-oligopaint3.2-03-152639-Scene-01-M26-P1.czi',\n",
    "'190114-oligopaint3.2-03-152639-Scene-02-M26-P3.czi',\n",
    "'190114-oligopaint3.2-03-152639-Scene-03-M26-P4.czi',\n",
    "'190114-oligopaint3.2-03-152639-Scene-04-M26-P5.czi',\n",
    "'190114-oligopaint3.2-03-152639-Scene-05-M26-P6.czi',\n",
    "'190114-oligopaint3.2-03-152639-Scene-06-M26-P7.czi',\n",
    "'190114-oligopaint3.2-03-152639-Scene-07-M26-P8.czi',\n",
    "'190114-oligopaint3.2-03-152639-Scene-08-M26-P9.czi',\n",
    "'190114-oligopaint3.2-03-152639-Scene-09-M26-P10.czi',\n",
    "'190114-oligopaint3.2-03-152639-Scene-10-M39-P1.czi',\n",
    "'190114-oligopaint3.2-03-152639-Scene-11-M39-P2.czi',\n",
    "'190114-oligopaint3.2-03-152639-Scene-12-M39-P4.czi',\n",
    "'190114-oligopaint3.2-03-152639-Scene-13-M39-P5.czi',\n",
    "'190114-oligopaint3.2-03-152639-Scene-14-M39-P6.czi',\n",
    "'190114-oligopaint3.2-03-152639-Scene-15-M39-P7.czi',\n",
    "'190114-oligopaint3.2-03-152639-Scene-16-M39-P8.czi',\n",
    "'190114-oligopaint3.2-03-152639-Scene-17-M39-P9.czi',\n",
    "'190114-oligopaint3.2-03-152639-Scene-18-M39-P11.czi',\n",
    "'190114-oligopaint3.2-03-152639-Scene-19-M39-P12.czi',\n",
    "'190114-oligopaint3.2-03-152639-Scene-20-M15-P1.czi',\n",
    "'190114-oligopaint3.2-03-152639-Scene-21-M15-P2.czi',\n",
    "'190114-oligopaint3.2-03-152639-Scene-22-M15-P3.czi',\n",
    "'190114-oligopaint3.2-03-152639-Scene-23-M15-P4.czi',\n",
    "'190114-oligopaint3.2-03-152639-Scene-24-M15-P5.czi',\n",
    "'190114-oligopaint3.2-03-152639-Scene-25-M15-P6.czi']"
   ]
  },
  {
   "cell_type": "code",
   "execution_count": 11,
   "metadata": {},
   "outputs": [
    {
     "name": "stdout",
     "output_type": "stream",
     "text": [
      "This file is not a CZI file - get outta here : 190114-oligopaint3.2-03-152639.czi\n",
      "This file is not a CZI file - get outta here : Thumbs.db\n",
      "This file is not a CZI file - get outta here : .DS_Store\n",
      "This file is not a CZI file - get outta here : selectfiles\n",
      "['190114-oligopaint3.2-03-152639-Scene-03-M26-P4.czi', '190114-oligopaint3.2-03-152639-Scene-20-M15-P1.czi', '190114-oligopaint3.2-03-152639-Scene-21-M15-P2.czi', '190114-oligopaint3.2-03-152639-Scene-09-M26-P10.czi', '190114-oligopaint3.2-03-152639-Scene-22-M15-P3.czi', '190114-oligopaint3.2-03-152639-Scene-08-M26-P9.czi', '190114-oligopaint3.2-03-152639-Scene-16-M39-P8.czi', '190114-oligopaint3.2-03-152639-Scene-12-M39-P4.czi', '190114-oligopaint3.2-03-152639-Scene-24-M15-P5.czi', '190114-oligopaint3.2-03-152639-Scene-13-M39-P5.czi', '190114-oligopaint3.2-03-152639-Scene-19-M39-P12.czi', '190114-oligopaint3.2-03-152639-Scene-07-M26-P8.czi', '190114-oligopaint3.2-03-152639-Scene-11-M39-P2.czi', '190114-oligopaint3.2-03-152639-Scene-06-M26-P7.czi', '190114-oligopaint3.2-03-152639-Scene-18-M39-P11.czi', '190114-oligopaint3.2-03-152639-Scene-23-M15-P4.czi', '190114-oligopaint3.2-03-152639-Scene-15-M39-P7.czi', '190114-oligopaint3.2-03-152639-Scene-01-M26-P1.czi', '190114-oligopaint3.2-03-152639-Scene-04-M26-P5.czi', '190114-oligopaint3.2-03-152639-Scene-05-M26-P6.czi', '190114-oligopaint3.2-03-152639-Scene-17-M39-P9.czi', '190114-oligopaint3.2-03-152639-Scene-14-M39-P6.czi', '190114-oligopaint3.2-03-152639-Scene-25-M15-P6.czi', '190114-oligopaint3.2-03-152639-Scene-02-M26-P3.czi', '190114-oligopaint3.2-03-152639-Scene-10-M39-P1.czi']\n"
     ]
    }
   ],
   "source": [
    "filelist = os.listdir(ProjectData)\n",
    "\n",
    "target_files = []\n",
    "for fname in filelist:\n",
    "    if fname.endswith('.czi') and 'Scene' in fname:\n",
    "        target_files.append(fname)\n",
    "    else:\n",
    "         print(\"This file is not a CZI file - get outta here :\", fname)\n",
    "print(target_files)"
   ]
  },
  {
   "cell_type": "code",
   "execution_count": null,
   "metadata": {
    "collapsed": true
   },
   "outputs": [],
   "source": [
    "os.listdir(path)\n",
    "for CziName in target_files:\n",
    "\n",
    "    #Function that takes the CZI file and splits it up into stacks based on the metadata\n",
    "    AF405Stack, AF488Stack, AF647Stack, AF546Stack = CZIMetadatatoDictionaries(ProjectData, CziName) \n",
    "    \n",
    "    ############ Threshold nuclei based on 405 - lamina and 488 - Protein ############  \n",
    "    Watershed_ClearBorders = NucleiSegmentation_MIP_Dapi_Lamina(CziName, AF405Stack)\n",
    "    \n",
    "    ############ Threshold nuclei based on 405 - lamina and 488 - Protein ############ \n",
    "    Threshold_DNASpots_triangle(CziName, AF647Stack, AF546Stack, Watershed_ClearBorders)"
   ]
  },
  {
   "cell_type": "code",
   "execution_count": null,
   "metadata": {
    "collapsed": true
   },
   "outputs": [],
   "source": [
    "python 190906_SegmentandThresholdImagesforchecking.py -P '/Users/jennahaines/Box Sync/Eisen_Lab/Experiments/DNAFish/OligoPaints/190114-Oligopaint3.2' \\\n",
    "-D '/Volumes/Imaging/Jenna/2019/2019-01-16/2019-01-22/2019-01-22/' \\\n",
    "-R '190906-NormalizedIntensityGraphs_sample3'\n",
    "\n",
    "\n",
    "## took out numbers 8, 14,15, 18, 19 --> unfortunately there is no way for me to figure out the A-P axis order of the plots..  I can try looking at bicoid staining instensity \n",
    "\n",
    "### 190907 \n",
    "python 190603_NormalizedIntensityGraphs.py -P '/Users/jennahaines/Box Sync/Eisen_Lab/Experiments/DNAFish/OligoPaints/190114-Oligopaint3.2' \\\n",
    "-D '/Volumes/Imaging/Jenna/2019/2019-01-16/2019-01-22/2019-01-22/selectfiles/' \\\n",
    "-R '190906-NormalizedIntensityGraphs_sample3'"
   ]
  },
  {
   "cell_type": "markdown",
   "metadata": {},
   "source": [
    "## Sample 4"
   ]
  },
  {
   "cell_type": "code",
   "execution_count": null,
   "metadata": {
    "collapsed": true
   },
   "outputs": [],
   "source": [
    "python 190906_SegmentandThresholdImagesforchecking.py -P '/Users/jennahaines/Box Sync/Eisen_Lab/Experiments/DNAFish/OligoPaints/190114-Oligopaint3.2' \\\n",
    "-D '/Volumes/Imaging/Jenna/2019/2019-01-16/2019-09-05/' \\\n",
    "-R '190908-NormalizedIntensityGraphs_sample4'\n",
    "\n",
    "## took out numbers 4 because of uneven lighting .. this was because I forgot to turn overlap off\n",
    "\n",
    "\n",
    "python 190603_NormalizedIntensityGraphs.py -P '/Users/jennahaines/Box Sync/Eisen_Lab/Experiments/DNAFish/OligoPaints/190114-Oligopaint3.2' \\\n",
    "-D '/Volumes/Imaging/Jenna/2019/2019-01-16/2019-09-05/selectfiles/' \\\n",
    "-R '190908-NormalizedIntensityGraphs_sample4'\n",
    "\n",
    "## Only got to about 7 samples... I need to finish running on the rest later.. I need to rerun these anyway with some more output tables made."
   ]
  },
  {
   "cell_type": "markdown",
   "metadata": {},
   "source": [
    "## Sample 5\n"
   ]
  },
  {
   "cell_type": "code",
   "execution_count": null,
   "metadata": {
    "collapsed": true
   },
   "outputs": [],
   "source": [
    "python 190906_SegmentandThresholdImagesforchecking.py -P '/Users/jennahaines/Box Sync/Eisen_Lab/Experiments/DNAFish/OligoPaints/190114-Oligopaint3.2' \\\n",
    "-D '/Volumes/Imaging/Jenna/2019/2019-01-16/2019-09-06/' \\\n",
    "-R '190908-NormalizedIntensityGraphs_sample5' \n",
    "\n",
    "## Weird uneven lighting of 1,4,9,13 need to be taken out\n",
    "\n",
    "python 190603_NormalizedIntensityGraphs.py -P '/Users/jennahaines/Box Sync/Eisen_Lab/Experiments/DNAFish/OligoPaints/190114-Oligopaint3.2' \\\n",
    "-D '/Volumes/Imaging/Jenna/2019/2019-01-16/2019-09-06/selectfiles/' \\\n",
    "-R '190908-NormalizedIntensityGraphs_sample5'"
   ]
  },
  {
   "cell_type": "markdown",
   "metadata": {},
   "source": [
    "## 190909 -- rewrote to add in an output file that captures some of the stats reported on the terminal\n",
    "\n",
    "/Volumes/Imaging/Jenna/2019/2019-01-16/2019-09-06/Test"
   ]
  },
  {
   "cell_type": "code",
   "execution_count": null,
   "metadata": {
    "collapsed": true
   },
   "outputs": [],
   "source": [
    "python 190603_NormalizedIntensityGraphs.py -P '/Users/jennahaines/Box Sync/Eisen_Lab/Experiments/DNAFish/OligoPaints/190114-Oligopaint3.2' \\\n",
    "-D '/Volumes/Imaging/Jenna/2019/2019-01-16/2019-09-06/Test/' \\\n",
    "-R '190908-NormalizedIntensityGraphs_sample5-TEST'\n",
    "\n",
    "## That went well so now I can re-run some of the analysis I already did.\n",
    "\n",
    "##### Sample 5 #####\n",
    "\n",
    "python 190603_NormalizedIntensityGraphs.py -P '/Users/jennahaines/Box Sync/Eisen_Lab/Experiments/DNAFish/OligoPaints/190114-Oligopaint3.2' \\\n",
    "-D '/Volumes/Imaging/Jenna/2019/2019-01-16/2019-09-06/selectfiles/' \\\n",
    "-R '190908-NormalizedIntensityGraphs_sample5'\n",
    "\n",
    "##### Sample 4 #####\n",
    "\n",
    "python 190603_NormalizedIntensityGraphs.py -P '/Users/jennahaines/Box Sync/Eisen_Lab/Experiments/DNAFish/OligoPaints/190114-Oligopaint3.2' \\\n",
    "-D '/Volumes/Imaging/Jenna/2019/2019-01-16/2019-09-05/selectfiles/' \\\n",
    "-R '190908-NormalizedIntensityGraphs_sample4'\n",
    "\n",
    "##### Sample 3 #####\n",
    "\n",
    "python 190603_NormalizedIntensityGraphs.py -P '/Users/jennahaines/Box Sync/Eisen_Lab/Experiments/DNAFish/OligoPaints/190114-Oligopaint3.2' \\\n",
    "-D '/Volumes/Imaging/Jenna/2019/2019-01-16/2019-01-22/2019-01-22/selectfiles/' \\\n",
    "-R '190906-NormalizedIntensityGraphs_sample3'\n",
    "\n",
    "##### Sample 2 #####\n",
    "python 190603_NormalizedIntensityGraphs.py -P '/Users/jennahaines/Box Sync/Eisen_Lab/Experiments/DNAFish/OligoPaints/190114-Oligopaint3.2' \\\n",
    "-D '/Volumes/Imaging/Jenna/2019/2019-01-16/2019-01-18/selectfiles/' \\\n",
    "-R '190905-NormalizedIntensityGraphs_sample2'\n",
    "\n",
    "#### Sample 1 #####\n",
    "python 190603_NormalizedIntensityGraphs.py -P '/Users/jennahaines/Box Sync/Eisen_Lab/Experiments/DNAFish/OligoPaints/190114-Oligopaint3.2' \\\n",
    "-D '/Volumes/Imaging/Jenna/2019/2019-01-16/2019-01-17/selectfiles/' \\\n",
    "-R '190909-NormalizedIntensityGraphs_sample1'"
   ]
  }
 ],
 "metadata": {
  "kernelspec": {
   "display_name": "Python 3",
   "language": "python",
   "name": "python3"
  },
  "language_info": {
   "codemirror_mode": {
    "name": "ipython",
    "version": 3
   },
   "file_extension": ".py",
   "mimetype": "text/x-python",
   "name": "python",
   "nbconvert_exporter": "python",
   "pygments_lexer": "ipython3",
   "version": "3.7.1"
  }
 },
 "nbformat": 4,
 "nbformat_minor": 2
}
